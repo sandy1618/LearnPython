{
 "cells": [
  {
   "cell_type": "markdown",
   "metadata": {},
   "source": [
    "## Elementwise Apply function to Dataframe"
   ]
  },
  {
   "cell_type": "code",
   "execution_count": 2,
   "metadata": {},
   "outputs": [
    {
     "data": {
      "text/plain": [
       "'x'"
      ]
     },
     "execution_count": 2,
     "metadata": {},
     "output_type": "execute_result"
    }
   ],
   "source": [
    "# import pandas and numpy library\n",
    "import pandas as pd\n",
    "import numpy as np\n",
    "\n",
    "# List of Tuples\n",
    "matrix = [(1, 2, 3),\n",
    "\t\t(4, 5, 6),\n",
    "\t\t(7, 8, 9)\n",
    "\t\t]\n",
    "\n",
    "# Create a DataFrame object\n",
    "df = pd.DataFrame(matrix, columns = list('xyz'),\n",
    "\t\t\t\tindex = list('abc'))\n",
    "df['x'].name"
   ]
  }
 ],
 "metadata": {
  "interpreter": {
   "hash": "775bace78200b09b6b84e9d6d629a74b478f54f66580d5c83e8d183a24771f5d"
  },
  "kernelspec": {
   "display_name": "Python 3.7.0 ('learnpython')",
   "language": "python",
   "name": "python3"
  },
  "language_info": {
   "codemirror_mode": {
    "name": "ipython",
    "version": 3
   },
   "file_extension": ".py",
   "mimetype": "text/x-python",
   "name": "python",
   "nbconvert_exporter": "python",
   "pygments_lexer": "ipython3",
   "version": "3.7.0"
  },
  "orig_nbformat": 4
 },
 "nbformat": 4,
 "nbformat_minor": 2
}
