{
 "cells": [
  {
   "cell_type": "markdown",
   "metadata": {},
   "source": [
    "# Understanding ( Apply,Applymap ) for Dataframe & (Apply, Map) for Series \n",
    "- The main aim of using the Pandas .apply() method is to speed up operations and avoid the use of loops for iterating over your data"
   ]
  },
  {
   "cell_type": "code",
   "execution_count": 92,
   "metadata": {},
   "outputs": [
    {
     "data": {
      "text/html": [
       "<div>\n",
       "<style scoped>\n",
       "    .dataframe tbody tr th:only-of-type {\n",
       "        vertical-align: middle;\n",
       "    }\n",
       "\n",
       "    .dataframe tbody tr th {\n",
       "        vertical-align: top;\n",
       "    }\n",
       "\n",
       "    .dataframe thead th {\n",
       "        text-align: right;\n",
       "    }\n",
       "</style>\n",
       "<table border=\"1\" class=\"dataframe\">\n",
       "  <thead>\n",
       "    <tr style=\"text-align: right;\">\n",
       "      <th></th>\n",
       "      <th>x</th>\n",
       "      <th>y</th>\n",
       "      <th>z</th>\n",
       "    </tr>\n",
       "  </thead>\n",
       "  <tbody>\n",
       "    <tr>\n",
       "      <th>a</th>\n",
       "      <td>1</td>\n",
       "      <td>2</td>\n",
       "      <td>3</td>\n",
       "    </tr>\n",
       "    <tr>\n",
       "      <th>b</th>\n",
       "      <td>4</td>\n",
       "      <td>5</td>\n",
       "      <td>6</td>\n",
       "    </tr>\n",
       "    <tr>\n",
       "      <th>c</th>\n",
       "      <td>7</td>\n",
       "      <td>8</td>\n",
       "      <td>9</td>\n",
       "    </tr>\n",
       "  </tbody>\n",
       "</table>\n",
       "</div>"
      ],
      "text/plain": [
       "   x  y  z\n",
       "a  1  2  3\n",
       "b  4  5  6\n",
       "c  7  8  9"
      ]
     },
     "metadata": {},
     "output_type": "display_data"
    }
   ],
   "source": [
    "# import pandas and numpy library\n",
    "import pandas as pd\n",
    "import numpy as np\n",
    "\n",
    "# List of Tuples\n",
    "matrix = [(1, 2, 3),\n",
    "\t\t(4, 5, 6),\n",
    "\t\t(7, 8, 9)\n",
    "\t\t]\n",
    "\n",
    "# Create a DataFrame object\n",
    "df = pd.DataFrame(matrix, columns = list('xyz'),\n",
    "\t\t\t\tindex = list('abc'))\n",
    "display(df)\n",
    "\n",
    "## Directly printing to see both the outputs for both the axis\n",
    "# print(df.apply(lambda x : print(x),axis=0))\n",
    "# print(df.apply(lambda x : print(x),axis=1))\n",
    "\n",
    "#### Applying \n",
    "\n"
   ]
  },
  {
   "cell_type": "code",
   "execution_count": 95,
   "metadata": {},
   "outputs": [
    {
     "data": {
      "text/html": [
       "<div>\n",
       "<style scoped>\n",
       "    .dataframe tbody tr th:only-of-type {\n",
       "        vertical-align: middle;\n",
       "    }\n",
       "\n",
       "    .dataframe tbody tr th {\n",
       "        vertical-align: top;\n",
       "    }\n",
       "\n",
       "    .dataframe thead th {\n",
       "        text-align: right;\n",
       "    }\n",
       "</style>\n",
       "<table border=\"1\" class=\"dataframe\">\n",
       "  <thead>\n",
       "    <tr style=\"text-align: right;\">\n",
       "      <th></th>\n",
       "      <th>x</th>\n",
       "      <th>y</th>\n",
       "      <th>z</th>\n",
       "    </tr>\n",
       "  </thead>\n",
       "  <tbody>\n",
       "    <tr>\n",
       "      <th>a</th>\n",
       "      <td>3</td>\n",
       "      <td>2</td>\n",
       "      <td>3</td>\n",
       "    </tr>\n",
       "    <tr>\n",
       "      <th>b</th>\n",
       "      <td>6</td>\n",
       "      <td>5</td>\n",
       "      <td>6</td>\n",
       "    </tr>\n",
       "    <tr>\n",
       "      <th>c</th>\n",
       "      <td>9</td>\n",
       "      <td>8</td>\n",
       "      <td>9</td>\n",
       "    </tr>\n",
       "  </tbody>\n",
       "</table>\n",
       "</div>"
      ],
      "text/plain": [
       "   x  y  z\n",
       "a  3  2  3\n",
       "b  6  5  6\n",
       "c  9  8  9"
      ]
     },
     "execution_count": 95,
     "metadata": {},
     "output_type": "execute_result"
    }
   ],
   "source": [
    "#### Lets see by applying 'apply' it into a series. \n",
    "# df['x'] = df['x'].apply(lambda x : x*x)\n",
    "\n",
    "def new_func(x,m):\n",
    "    return x+m\n",
    "\n",
    "# The additional arguments can be a scalar, but cannot be series. \n",
    "df['x'] = df['x'].apply(new_func,args=(2,))\n",
    "## This is not possible. \n",
    "# df['x'] = df['x'].apply(new_func,args=(df['y'],))\n",
    "\n",
    "df"
   ]
  },
  {
   "cell_type": "code",
   "execution_count": 76,
   "metadata": {},
   "outputs": [],
   "source": [
    "#### Lets see by applying 'applymap' it into a series. \n",
    "# print(df.applymap(lambda x : x+1))\n",
    "# Applymap cannot be applied to a series object, but series.map is available!!\n",
    "# print(df['x'].applymap(lambda x : x+1))"
   ]
  },
  {
   "cell_type": "code",
   "execution_count": 47,
   "metadata": {},
   "outputs": [
    {
     "name": "stdout",
     "output_type": "stream",
     "text": [
      "Series Name => Index(['a', 'b', 'c'], dtype='object')\n",
      "Series Name => x\n"
     ]
    },
    {
     "data": {
      "text/plain": [
       "['a', 'b', 'c']"
      ]
     },
     "execution_count": 47,
     "metadata": {},
     "output_type": "execute_result"
    }
   ],
   "source": [
    "axis = 0\n",
    "if axis == 1 : \n",
    "\t# axis = 1 means rows : moving down, ie index = [x,y,z]\n",
    "\tsliced_series = df.loc['a']\n",
    "elif axis == 0:\n",
    "\t# axis = 0 means columns : moving right, ie index = [a,b,c]\n",
    "\tsliced_series=df.loc[:,'x']\n",
    "\n",
    "# Accessing \n",
    "# Index of series \n",
    "print(f\"Series Name => {sliced_series.index}\")\n",
    "# Name of the series\n",
    "print(f\"Series Name => {sliced_series.name}\")\n",
    "\n",
    "list(sliced_series.index)\n",
    "# Index of the series\n",
    "# df.loc['a']\n",
    "# Axis = \n",
    "# x=df.loc[:,'y']\n",
    "# x.name\n",
    "# sliced_series.name\n"
   ]
  },
  {
   "cell_type": "code",
   "execution_count": null,
   "metadata": {},
   "outputs": [],
   "source": [
    "# Objects passed to the function are Series objects whose index is either \n",
    "# the DataFrame's index (axis=0) or the DataFrame's columns (axis=1).\n",
    "# TODO : Video Explaining the Meaning of Axis: \n",
    "# 0 : Rows\n",
    "# 1 : Columns\n",
    "# ---------------> Axis = 1 \n",
    "\n",
    "# axis = obj._get_axis_number(axis)\n",
    "#     klass: type[FrameApply]\n",
    "#     if axis == 0:\n",
    "#         klass = FrameRowApply\n",
    "#     elif axis == 1:\n",
    "#         klass = FrameColumnApply"
   ]
  },
  {
   "cell_type": "code",
   "execution_count": 61,
   "metadata": {},
   "outputs": [
    {
     "data": {
      "text/html": [
       "<div>\n",
       "<style scoped>\n",
       "    .dataframe tbody tr th:only-of-type {\n",
       "        vertical-align: middle;\n",
       "    }\n",
       "\n",
       "    .dataframe tbody tr th {\n",
       "        vertical-align: top;\n",
       "    }\n",
       "\n",
       "    .dataframe thead th {\n",
       "        text-align: right;\n",
       "    }\n",
       "</style>\n",
       "<table border=\"1\" class=\"dataframe\">\n",
       "  <thead>\n",
       "    <tr style=\"text-align: right;\">\n",
       "      <th></th>\n",
       "      <th>x</th>\n",
       "      <th>y</th>\n",
       "      <th>z</th>\n",
       "    </tr>\n",
       "  </thead>\n",
       "  <tbody>\n",
       "    <tr>\n",
       "      <th>a</th>\n",
       "      <td>1</td>\n",
       "      <td>2</td>\n",
       "      <td>3</td>\n",
       "    </tr>\n",
       "    <tr>\n",
       "      <th>b</th>\n",
       "      <td>4</td>\n",
       "      <td>5</td>\n",
       "      <td>6</td>\n",
       "    </tr>\n",
       "    <tr>\n",
       "      <th>c</th>\n",
       "      <td>7</td>\n",
       "      <td>8</td>\n",
       "      <td>9</td>\n",
       "    </tr>\n",
       "  </tbody>\n",
       "</table>\n",
       "</div>"
      ],
      "text/plain": [
       "   x  y  z\n",
       "a  1  2  3\n",
       "b  4  5  6\n",
       "c  7  8  9"
      ]
     },
     "metadata": {},
     "output_type": "display_data"
    },
    {
     "data": {
      "text/plain": [
       "'Column Transformation, Axis=0'"
      ]
     },
     "metadata": {},
     "output_type": "display_data"
    },
    {
     "data": {
      "text/html": [
       "<div>\n",
       "<style scoped>\n",
       "    .dataframe tbody tr th:only-of-type {\n",
       "        vertical-align: middle;\n",
       "    }\n",
       "\n",
       "    .dataframe tbody tr th {\n",
       "        vertical-align: top;\n",
       "    }\n",
       "\n",
       "    .dataframe thead th {\n",
       "        text-align: right;\n",
       "    }\n",
       "</style>\n",
       "<table border=\"1\" class=\"dataframe\">\n",
       "  <thead>\n",
       "    <tr style=\"text-align: right;\">\n",
       "      <th></th>\n",
       "      <th>x</th>\n",
       "      <th>y</th>\n",
       "      <th>z</th>\n",
       "    </tr>\n",
       "  </thead>\n",
       "  <tbody>\n",
       "    <tr>\n",
       "      <th>a</th>\n",
       "      <td>1</td>\n",
       "      <td>4</td>\n",
       "      <td>9</td>\n",
       "    </tr>\n",
       "    <tr>\n",
       "      <th>b</th>\n",
       "      <td>4</td>\n",
       "      <td>25</td>\n",
       "      <td>36</td>\n",
       "    </tr>\n",
       "    <tr>\n",
       "      <th>c</th>\n",
       "      <td>7</td>\n",
       "      <td>64</td>\n",
       "      <td>81</td>\n",
       "    </tr>\n",
       "  </tbody>\n",
       "</table>\n",
       "</div>"
      ],
      "text/plain": [
       "   x   y   z\n",
       "a  1   4   9\n",
       "b  4  25  36\n",
       "c  7  64  81"
      ]
     },
     "metadata": {},
     "output_type": "display_data"
    },
    {
     "data": {
      "text/plain": [
       "'Row Transformation, Axis=1'"
      ]
     },
     "metadata": {},
     "output_type": "display_data"
    },
    {
     "data": {
      "text/html": [
       "<div>\n",
       "<style scoped>\n",
       "    .dataframe tbody tr th:only-of-type {\n",
       "        vertical-align: middle;\n",
       "    }\n",
       "\n",
       "    .dataframe tbody tr th {\n",
       "        vertical-align: top;\n",
       "    }\n",
       "\n",
       "    .dataframe thead th {\n",
       "        text-align: right;\n",
       "    }\n",
       "</style>\n",
       "<table border=\"1\" class=\"dataframe\">\n",
       "  <thead>\n",
       "    <tr style=\"text-align: right;\">\n",
       "      <th></th>\n",
       "      <th>x</th>\n",
       "      <th>y</th>\n",
       "      <th>z</th>\n",
       "    </tr>\n",
       "  </thead>\n",
       "  <tbody>\n",
       "    <tr>\n",
       "      <th>a</th>\n",
       "      <td>1</td>\n",
       "      <td>2</td>\n",
       "      <td>3</td>\n",
       "    </tr>\n",
       "    <tr>\n",
       "      <th>b</th>\n",
       "      <td>16</td>\n",
       "      <td>25</td>\n",
       "      <td>36</td>\n",
       "    </tr>\n",
       "    <tr>\n",
       "      <th>c</th>\n",
       "      <td>49</td>\n",
       "      <td>64</td>\n",
       "      <td>81</td>\n",
       "    </tr>\n",
       "  </tbody>\n",
       "</table>\n",
       "</div>"
      ],
      "text/plain": [
       "    x   y   z\n",
       "a   1   2   3\n",
       "b  16  25  36\n",
       "c  49  64  81"
      ]
     },
     "metadata": {},
     "output_type": "display_data"
    }
   ],
   "source": [
    "# Apply function numpy.square() to\n",
    "# square the values of two rows\n",
    "\n",
    "def new_f(l):\n",
    "    return l*l\n",
    "\n",
    "\n",
    "# Applying function to column y and z \n",
    "column_transform_df = df.apply(lambda x: new_f(x,x['x']) if x.name in ['y', 'z'] else x,\n",
    "\t\t\t\taxis = 1)\n",
    "\n",
    "## Applying function to full series. \n",
    "column_transform_df = df.apply(lambda x: new_f(x) if x.name in ['y', 'z'] else x,axis = 0)\n",
    "row_transform_df = df.apply(lambda x: new_f(x) if x.name in ['b', 'c'] else x,axis = 1)\n",
    "\n",
    "\n",
    "display(df)\n",
    "# Output\n",
    "display(f'Column Transformation, Axis=0')\n",
    "display(column_transform_df)\n",
    "\n",
    "display(f'Row Transformation, Axis=1')\n",
    "display(row_transform_df)\n"
   ]
  },
  {
   "cell_type": "markdown",
   "metadata": {},
   "source": [
    "### Elementwise Apply function to Dataframe"
   ]
  },
  {
   "cell_type": "markdown",
   "metadata": {},
   "source": [
    "#### Custom column wise function to replace columns with applied function. "
   ]
  },
  {
   "cell_type": "code",
   "execution_count": null,
   "metadata": {},
   "outputs": [],
   "source": [
    "def applyPhoneFilter(df,phone_cols,country_col):\n",
    "    '''\n",
    "    This function will apply the phone filter to the dataframe.\n",
    "    and return the filtered dataframe.\n",
    "    country_col is the country column name.Its important. \n",
    "    '''\n",
    "    phone_cc = ''\n",
    "    for phone_col in phone_cols:\n",
    "        phone_list = []\n",
    "        \n",
    "        for index,row in df.iterrows():\n",
    "            try:\n",
    "                _phone = str(PhoneCleanerClass.extractPhone(row[phone_col],phone_cc,str(row[country_col]))[0])\n",
    "                phone_list.append(_phone)\n",
    "                # print(_phone)\n",
    "            except Exception as e:\n",
    "                # print(e)\n",
    "                \n",
    "                phone_list.append('nan')\n",
    "        df[phone_col] = phone_list\n",
    "        \n",
    "    return df"
   ]
  }
 ],
 "metadata": {
  "interpreter": {
   "hash": "775bace78200b09b6b84e9d6d629a74b478f54f66580d5c83e8d183a24771f5d"
  },
  "kernelspec": {
   "display_name": "Python 3.7.0 ('learnpython')",
   "language": "python",
   "name": "python3"
  },
  "language_info": {
   "codemirror_mode": {
    "name": "ipython",
    "version": 3
   },
   "file_extension": ".py",
   "mimetype": "text/x-python",
   "name": "python",
   "nbconvert_exporter": "python",
   "pygments_lexer": "ipython3",
   "version": "3.7.0"
  },
  "orig_nbformat": 4
 },
 "nbformat": 4,
 "nbformat_minor": 2
}
