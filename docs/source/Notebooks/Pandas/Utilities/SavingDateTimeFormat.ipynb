{
 "cells": [
  {
   "cell_type": "markdown",
   "metadata": {},
   "source": [
    "# Cookbook for Saving Date and Time"
   ]
  },
  {
   "cell_type": "code",
   "execution_count": 50,
   "metadata": {},
   "outputs": [],
   "source": [
    "import pandas as pd\n",
    "from datetime import datetime\n",
    "from argparse import ArgumentParser"
   ]
  },
  {
   "cell_type": "code",
   "execution_count": 79,
   "metadata": {},
   "outputs": [
    {
     "ename": "NameError",
     "evalue": "name 'ArgumentParser' is not defined",
     "output_type": "error",
     "traceback": [
      "\u001b[0;31m---------------------------------------------------------------------------\u001b[0m",
      "\u001b[0;31mNameError\u001b[0m                                 Traceback (most recent call last)",
      "\u001b[0;32m/tmp/ipykernel_203741/318138172.py\u001b[0m in \u001b[0;36m<module>\u001b[0;34m\u001b[0m\n\u001b[1;32m      1\u001b[0m \u001b[0;31m# Reading csv file\u001b[0m\u001b[0;34m\u001b[0m\u001b[0;34m\u001b[0m\u001b[0m\n\u001b[1;32m      2\u001b[0m \u001b[0;31m# take data from argparse\u001b[0m\u001b[0;34m\u001b[0m\u001b[0;34m\u001b[0m\u001b[0m\n\u001b[0;32m----> 3\u001b[0;31m \u001b[0mparser\u001b[0m \u001b[0;34m=\u001b[0m \u001b[0mArgumentParser\u001b[0m\u001b[0;34m(\u001b[0m\u001b[0;34m)\u001b[0m\u001b[0;34m\u001b[0m\u001b[0m\n\u001b[0m\u001b[1;32m      4\u001b[0m \u001b[0mparser\u001b[0m\u001b[0;34m.\u001b[0m\u001b[0madd_argument\u001b[0m\u001b[0;34m(\u001b[0m\u001b[0;34m\"-f\"\u001b[0m\u001b[0;34m,\u001b[0m \u001b[0;34m\"--file\"\u001b[0m\u001b[0;34m,\u001b[0m \u001b[0mdest\u001b[0m\u001b[0;34m=\u001b[0m\u001b[0;34m\"file\"\u001b[0m\u001b[0;34m,\u001b[0m \u001b[0mhelp\u001b[0m\u001b[0;34m=\u001b[0m\u001b[0;34m\"file to read\"\u001b[0m\u001b[0;34m,\u001b[0m \u001b[0mmetavar\u001b[0m\u001b[0;34m=\u001b[0m\u001b[0;34m\"FILE\"\u001b[0m\u001b[0;34m)\u001b[0m\u001b[0;34m\u001b[0m\u001b[0m\n\u001b[1;32m      5\u001b[0m \u001b[0mparser\u001b[0m\u001b[0;34m.\u001b[0m\u001b[0madd_argument\u001b[0m\u001b[0;34m(\u001b[0m\u001b[0;34m\"-d\"\u001b[0m\u001b[0;34m,\u001b[0m \u001b[0;34m\"--output\"\u001b[0m\u001b[0;34m,\u001b[0m \u001b[0mdest\u001b[0m\u001b[0;34m=\u001b[0m\u001b[0;34m\"output\"\u001b[0m\u001b[0;34m,\u001b[0m \u001b[0mhelp\u001b[0m\u001b[0;34m=\u001b[0m\u001b[0;34m\"output file\"\u001b[0m\u001b[0;34m,\u001b[0m \u001b[0mmetavar\u001b[0m\u001b[0;34m=\u001b[0m\u001b[0;34m\"FILE\"\u001b[0m\u001b[0;34m)\u001b[0m\u001b[0;34m\u001b[0m\u001b[0m\n",
      "\u001b[0;31mNameError\u001b[0m: name 'ArgumentParser' is not defined"
     ]
    }
   ],
   "source": [
    "import pandas as pd\n",
    "from datetime import datetime\n",
    "from argparse import ArgumentParser\n",
    "# Reading csv file\n",
    "# take data from argparse\n",
    "parser = ArgumentParser()\n",
    "parser.add_argument(\"-f\", \"--file\", dest=\"file\", help=\"file to read\", metavar=\"FILE\")\n",
    "parser.add_argument(\"-d\", \"--output\", dest=\"output\", help=\"output file\", metavar=\"FILE\")\n",
    "parser.add_argument(\"-c\", \"--column\", dest=\"column\", help=\"column to convert\", metavar=\"COLUMN\")\n",
    "\n",
    "args = parser.parse_args()\n",
    "# reading the args\n",
    "file = args.file\n",
    "output = args.output\n",
    "column = args.column\n",
    "\n",
    "ArgumentParser()\n",
    "if column:\n",
    "    df = pd.read_csv(file)\n",
    "else:\n",
    "    df = pd.read_csv(file,names=['date','time','','x'])\n",
    "    column='date'\n",
    "# df.columns\n",
    "from dateutil import parser\n",
    "df[column]=df[column].apply(lambda x: parser.parse(str(x)))\n",
    "# df[column] = pd.to_datetime(df[column], format='%d-%m-%Y')\n",
    "# df.head()\n",
    "df.loc[df[column].dt.year > 2000, 'date'] -= pd.DateOffset(years=100)\n",
    "# changing the format of date\n",
    "format = '%m-%d-%Y'\n",
    "df[column] = df[column].dt.strftime(format)\n",
    "\n",
    "# for index,row in df.iterrows():\n",
    "\n",
    "#     try:\n",
    "#         row['date'] = datetime.strftime(row['date'],format='%d-%m-%y')\n",
    "#         # pd.to_datetime(row['date'], format='%d-%m-%y')\n",
    "#     except:\n",
    "#         row['date'] = datetime.strptime(row['date'],format='%d-%m-%Y')\n",
    "        # row['date'] = pd.to_datetime(row['date'], format='%d-%m-%Y')\n",
    "    \n",
    "    # row['date']=row['date'].year if row['date'].year < 2020 else row['date'].year-100\n",
    "\n",
    "    # df.loc[index,'date'] = row['date']\n",
    "    # print(type(row['date']))\n",
    "    # row.loc[row['date'].dt.year >= 2020, 'date'] -= pd.DateOffset(years=100)\n",
    "\n",
    "    # df[column]=df[column].apply(lambda x: str(x).replace('-', '/'))\n",
    "\n",
    "    # df.loc[index,'date'] = df.loc[index,'date'].strftime('%d/%m/%Y')\n",
    "\n",
    "# df[column] = pd.to_datetime(df[column], format='%d/%m/%yy')\n",
    "\n",
    "\n",
    "# df[column] = pd.to_datetime(df[column], format='%d/%m/%yy')\n",
    "\n",
    "\n",
    "# export to csv\n",
    "df.to_csv(output, index=False)"
   ]
  },
  {
   "cell_type": "code",
   "execution_count": 36,
   "metadata": {},
   "outputs": [
    {
     "data": {
      "text/html": [
       "<div>\n",
       "<style scoped>\n",
       "    .dataframe tbody tr th:only-of-type {\n",
       "        vertical-align: middle;\n",
       "    }\n",
       "\n",
       "    .dataframe tbody tr th {\n",
       "        vertical-align: top;\n",
       "    }\n",
       "\n",
       "    .dataframe thead th {\n",
       "        text-align: right;\n",
       "    }\n",
       "</style>\n",
       "<table border=\"1\" class=\"dataframe\">\n",
       "  <thead>\n",
       "    <tr style=\"text-align: right;\">\n",
       "      <th></th>\n",
       "      <th>date</th>\n",
       "      <th>time</th>\n",
       "      <th></th>\n",
       "      <th>x</th>\n",
       "    </tr>\n",
       "  </thead>\n",
       "  <tbody>\n",
       "    <tr>\n",
       "      <th>0</th>\n",
       "      <td>25/10/84</td>\n",
       "      <td>25-10-1984</td>\n",
       "      <td>09-12-1994</td>\n",
       "      <td>12/09/1994</td>\n",
       "    </tr>\n",
       "    <tr>\n",
       "      <th>1</th>\n",
       "      <td>31/12/84</td>\n",
       "      <td>31-12-1984</td>\n",
       "      <td>NaN</td>\n",
       "      <td>NaN</td>\n",
       "    </tr>\n",
       "    <tr>\n",
       "      <th>2</th>\n",
       "      <td>31/07/74</td>\n",
       "      <td>31-07-1974</td>\n",
       "      <td>NaN</td>\n",
       "      <td>NaN</td>\n",
       "    </tr>\n",
       "    <tr>\n",
       "      <th>3</th>\n",
       "      <td>24/03/1981</td>\n",
       "      <td>24-03-1981</td>\n",
       "      <td>NaN</td>\n",
       "      <td>NaN</td>\n",
       "    </tr>\n",
       "    <tr>\n",
       "      <th>4</th>\n",
       "      <td>28/09/1980</td>\n",
       "      <td>28-09-1980</td>\n",
       "      <td>NaN</td>\n",
       "      <td>NaN</td>\n",
       "    </tr>\n",
       "  </tbody>\n",
       "</table>\n",
       "</div>"
      ],
      "text/plain": [
       "         date        time                       x\n",
       "0    25/10/84  25-10-1984  09-12-1994  12/09/1994\n",
       "1    31/12/84  31-12-1984         NaN         NaN\n",
       "2    31/07/74  31-07-1974         NaN         NaN\n",
       "3  24/03/1981  24-03-1981         NaN         NaN\n",
       "4  28/09/1980  28-09-1980         NaN         NaN"
      ]
     },
     "execution_count": 36,
     "metadata": {},
     "output_type": "execute_result"
    }
   ],
   "source": [
    "df.head()"
   ]
  },
  {
   "cell_type": "code",
   "execution_count": 31,
   "metadata": {},
   "outputs": [
    {
     "data": {
      "text/plain": [
       "datetime.datetime(2019, 3, 3, 0, 0)"
      ]
     },
     "execution_count": 31,
     "metadata": {},
     "output_type": "execute_result"
    }
   ],
   "source": [
    "# from dateutil import parser\n",
    "\n",
    "# from dateutil import parser\n",
    "# df['date']=df['date'].apply(lambda x: parser.parse(str(x)))\n",
    "\n"
   ]
  },
  {
   "cell_type": "code",
   "execution_count": 28,
   "metadata": {},
   "outputs": [
    {
     "name": "stdout",
     "output_type": "stream",
     "text": [
      "25/10/84\n"
     ]
    },
    {
     "data": {
      "text/plain": [
       "1984"
      ]
     },
     "execution_count": 28,
     "metadata": {},
     "output_type": "execute_result"
    }
   ],
   "source": [
    "d= df['date'][0]\n",
    "df['date'] = pd.to_datetime(df['date'], format='%d-%m-%y')\n",
    "df.head()\n",
    "df.loc[df['DOB'].dt.year >= 2020, 'DOB'] -= pd.DateOffset(years=100)\n",
    "\n",
    "# print(d)\n",
    "# try:\n",
    "#     d_obj = datetime.datetime.strptime(d, '%d/%m/%y')\n",
    "# except Exception as e:\n",
    "#     d_obj = datetime.datetime.strptime(d, '%d/%m/%Y')\n",
    "\n",
    "# type(d_obj.year)\n",
    "# d_obj.year\n"
   ]
  }
 ],
 "metadata": {
  "interpreter": {
   "hash": "775bace78200b09b6b84e9d6d629a74b478f54f66580d5c83e8d183a24771f5d"
  },
  "kernelspec": {
   "display_name": "Python 3.7.0 ('learnpython')",
   "language": "python",
   "name": "python3"
  },
  "language_info": {
   "codemirror_mode": {
    "name": "ipython",
    "version": 3
   },
   "file_extension": ".py",
   "mimetype": "text/x-python",
   "name": "python",
   "nbconvert_exporter": "python",
   "pygments_lexer": "ipython3",
   "version": "3.7.0"
  },
  "orig_nbformat": 4
 },
 "nbformat": 4,
 "nbformat_minor": 2
}
