{
 "cells": [
  {
   "cell_type": "markdown",
   "metadata": {},
   "source": [
    "# Joining Dataframes"
   ]
  },
  {
   "cell_type": "markdown",
   "metadata": {},
   "source": [
    "## Joining Rows "
   ]
  },
  {
   "cell_type": "code",
   "execution_count": 9,
   "metadata": {},
   "outputs": [
    {
     "name": "stdout",
     "output_type": "stream",
     "text": [
      "    name  word\n",
      "0    one     1\n",
      "1  three     3\n",
      "   name  word  random\n",
      "0   two     2       5\n",
      "1  four     4       6\n",
      "    name  word  random\n",
      "0    one     1     NaN\n",
      "1  three     3     NaN\n",
      "2    two     2     5.0\n",
      "3   four     4     6.0\n"
     ]
    }
   ],
   "source": [
    "# importing the module\n",
    "import pandas as pd\n",
    "\n",
    "# creating 2 DataFrames\n",
    "first = pd.DataFrame([['one', 1], ['three', 3]], columns =['name', 'word'])\n",
    "second = pd.DataFrame([['two', 2,5], ['four', 4,6]], columns =['name', 'word','random'])\n",
    "\n",
    "print(first)\n",
    "\n",
    "print(second)\n",
    "# concatenating the DataFrames\n",
    "dt = first.append(second, ignore_index = True)\n",
    "\n",
    "# displaying the DataFrame\n",
    "print(dt)\n"
   ]
  },
  {
   "cell_type": "markdown",
   "metadata": {},
   "source": [
    "## Joining Columns "
   ]
  },
  {
   "cell_type": "code",
   "execution_count": 12,
   "metadata": {},
   "outputs": [
    {
     "name": "stdout",
     "output_type": "stream",
     "text": [
      "       area\n",
      "0  new-york\n",
      "1   columbo\n",
      "2    mumbai\n",
      "       food\n",
      "0     pizza\n",
      "1     crabs\n",
      "2  vada-paw\n",
      "       area      food\n",
      "0  new-york     pizza\n",
      "1   columbo     crabs\n",
      "2    mumbai  vada-paw\n"
     ]
    }
   ],
   "source": [
    "# importing the module\n",
    "import pandas as pd\n",
    "\n",
    "# creating 2 DataFrames\n",
    "location = pd.DataFrame({'area' : ['new-york', 'columbo', 'mumbai']})\n",
    "food = pd.DataFrame({'food': ['pizza', 'crabs', 'vada-paw']})\n",
    "\n",
    "print(location)\n",
    "print(food)\n",
    "# concatenating the DataFrames\n",
    "dt = location.join(food)\n",
    "\n",
    "\n",
    "# displaying the DataFrame\n",
    "print(dt)\n"
   ]
  }
 ],
 "metadata": {
  "interpreter": {
   "hash": "775bace78200b09b6b84e9d6d629a74b478f54f66580d5c83e8d183a24771f5d"
  },
  "kernelspec": {
   "display_name": "Python 3.7.0 ('learnpython')",
   "language": "python",
   "name": "python3"
  },
  "language_info": {
   "codemirror_mode": {
    "name": "ipython",
    "version": 3
   },
   "file_extension": ".py",
   "mimetype": "text/x-python",
   "name": "python",
   "nbconvert_exporter": "python",
   "pygments_lexer": "ipython3",
   "version": "3.7.0"
  },
  "orig_nbformat": 4
 },
 "nbformat": 4,
 "nbformat_minor": 2
}
