{
 "cells": [
  {
   "cell_type": "markdown",
   "metadata": {},
   "source": [
    "#### Question 1 : \n",
    "A binary gap within a positive integer N is any maximal sequence of consecutive zeros that is surrounded by ones at both ends in the binary representation of N.\n",
    "\n",
    "For example, number 9 has binary representation 1001 and contains a binary gap of length 2. The number 529 has binary representation 1000010001 and contains two binary gaps: one of length 4 and one of length 3. The number 20 has binary representation 10100 and contains one binary gap of length 1. The number 15 has binary representation 1111 and has no binary gaps. The number 32 has binary representation 100000 and has no binary gaps.\n",
    "\n",
    "Write a function:\n",
    "\n",
    "class Solution { public int solution(int N); }\n",
    "\n",
    "that, given a positive integer N, returns the length of its longest binary gap. The function should return 0 if N doesn't contain a binary gap.\n",
    "\n",
    "For example, given N = 1041 the function should return 5, because N has binary representation 10000010001 and so its longest binary gap is of length 5. Given N = 32 the function should return 0, because N has binary representation '100000' and thus no binary gaps.\n",
    "\n",
    "Write an efficient algorithm for the following assumptions:\n",
    "\n",
    "N is an integer within the range [1..2,147,483,647].\n",
    "\n",
    "#### Solution:"
   ]
  },
  {
   "cell_type": "code",
   "execution_count": 1,
   "metadata": {},
   "outputs": [],
   "source": [
    "check_list= [x for x in range(1,2147)]\n",
    "# check_list\n",
    "\n",
    "def solution(N):\n",
    "    # write your code in Python 3.6\n",
    "    #Check if N in given range. [1..2,147,483,647]\n",
    "    global check_list1041\n",
    "    if N in check_list:\n",
    "        # converting N to binary format\n",
    "        binary_format = format(N,'b')\n",
    "        zero_count_lst = []\n",
    "        \n",
    "        zero_counter= 0\n",
    "        first_one= False\n",
    "        second_one= False\n",
    "        # counting number of zeros in between two 1's\n",
    "        for char in binary_format:\n",
    "            if char == '1'and not first_one:\n",
    "                \n",
    "                first_one=True\n",
    "            if char == '0'  and first_one:\n",
    "                zero_counter += 1\n",
    "            # At this stage two actions, if char is 1 and first_one, \n",
    "            if char == '1'  and first_one:                    \n",
    "                zero_count_lst.append(zero_counter)\n",
    "                zero_counter=0\n",
    "            \n",
    "        if len(zero_count_lst) > 0:\n",
    "            return max(zero_count_lst)\n",
    "        else:\n",
    "            return 0        \n",
    "    \n",
    "N = int(input())\n",
    "solution(N)\n",
    "\n",
    "\n"
   ]
  }
 ],
 "metadata": {
  "interpreter": {
   "hash": "775bace78200b09b6b84e9d6d629a74b478f54f66580d5c83e8d183a24771f5d"
  },
  "kernelspec": {
   "display_name": "Python 3.7.0 ('learnpython')",
   "language": "python",
   "name": "python3"
  },
  "language_info": {
   "codemirror_mode": {
    "name": "ipython",
    "version": 3
   },
   "file_extension": ".py",
   "mimetype": "text/x-python",
   "name": "python",
   "nbconvert_exporter": "python",
   "pygments_lexer": "ipython3",
   "version": "3.7.0"
  },
  "orig_nbformat": 4
 },
 "nbformat": 4,
 "nbformat_minor": 2
}
