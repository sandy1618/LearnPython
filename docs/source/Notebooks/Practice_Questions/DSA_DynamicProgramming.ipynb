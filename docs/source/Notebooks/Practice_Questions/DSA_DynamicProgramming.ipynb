{
 "cells": [
  {
   "cell_type": "markdown",
   "metadata": {},
   "source": [
    "# Dynamic Programming"
   ]
  },
  {
   "cell_type": "markdown",
   "metadata": {},
   "source": [
    "## Fibonacci "
   ]
  },
  {
   "cell_type": "code",
   "execution_count": 18,
   "metadata": {},
   "outputs": [
    {
     "data": {
      "text/plain": [
       "5702887"
      ]
     },
     "execution_count": 18,
     "metadata": {},
     "output_type": "execute_result"
    }
   ],
   "source": [
    "# Recursion \n",
    "def fib(n):\n",
    "    if n <= 1:\n",
    "        return n\n",
    "    return fib(n-1) + fib(n-2)\n",
    "fib(34)"
   ]
  },
  {
   "cell_type": "code",
   "execution_count": 17,
   "metadata": {},
   "outputs": [
    {
     "data": {
      "text/plain": [
       "5702887"
      ]
     },
     "execution_count": 17,
     "metadata": {},
     "output_type": "execute_result"
    }
   ],
   "source": [
    "# Memoization using lookup tables, top down approach\n",
    "def fib(n,lup):    \n",
    "    if n <=1 : \n",
    "        lup[n] = n\n",
    "    if lup[n] is None:\n",
    "        lup[n] = fib(n-1,lup) + fib(n-2,lup)\n",
    "        \n",
    "    return lup[n]\n",
    "\n",
    "n = 34\n",
    "lup = [None]*(n+1)\n",
    "fib(n,lup)\n"
   ]
  },
  {
   "cell_type": "code",
   "execution_count": 22,
   "metadata": {},
   "outputs": [
    {
     "data": {
      "text/plain": [
       "5702887"
      ]
     },
     "execution_count": 22,
     "metadata": {},
     "output_type": "execute_result"
    }
   ],
   "source": [
    "# Using tabulation bottop-up approach\n",
    "def fib(n):\n",
    "    # Decalre the table \n",
    "    ltable = [0]*(n+1)\n",
    "    # Assign base values \n",
    "    ltable[0],ltable[1]=0,1\n",
    "    # Fill the table\n",
    "    for i in range(2,n+1):\n",
    "        ltable[i] = ltable[i-1] + ltable[i-2]\n",
    "    return ltable[n]\n",
    "\n",
    "fib(34)"
   ]
  }
 ],
 "metadata": {
  "interpreter": {
   "hash": "775bace78200b09b6b84e9d6d629a74b478f54f66580d5c83e8d183a24771f5d"
  },
  "kernelspec": {
   "display_name": "Python 3.7.0 ('learnpython')",
   "language": "python",
   "name": "python3"
  },
  "language_info": {
   "codemirror_mode": {
    "name": "ipython",
    "version": 3
   },
   "file_extension": ".py",
   "mimetype": "text/x-python",
   "name": "python",
   "nbconvert_exporter": "python",
   "pygments_lexer": "ipython3",
   "version": "3.7.0"
  },
  "orig_nbformat": 4
 },
 "nbformat": 4,
 "nbformat_minor": 2
}
