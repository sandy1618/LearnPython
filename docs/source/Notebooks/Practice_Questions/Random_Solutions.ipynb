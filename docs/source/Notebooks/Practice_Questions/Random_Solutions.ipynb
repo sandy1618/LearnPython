{
 "cells": [
  {
   "cell_type": "code",
   "execution_count": 7,
   "metadata": {},
   "outputs": [
    {
     "data": {
      "text/plain": [
       "7"
      ]
     },
     "execution_count": 7,
     "metadata": {},
     "output_type": "execute_result"
    }
   ],
   "source": [
    "## Finding stable velocity \n",
    "def solution(A):\n",
    "    n = len(A)\n",
    "    if n < 3:\n",
    "        return -1\n",
    "    stable_velocity = 0\n",
    "    for o_index in range(n-2):\n",
    "        diff = A[o_index + 1] - A[o_index]\n",
    "        for i_index in range(o_index +1, n-1):\n",
    "            if A[i_index+1] - A[i_index] == diff:\n",
    "                stable_velocity += 1\n",
    "            else:\n",
    "                break\n",
    "    return stable_velocity\n",
    "A = [1,1,1,2,2,2,2,2]\n",
    "solution(A)"
   ]
  },
  {
   "cell_type": "code",
   "execution_count": null,
   "metadata": {},
   "outputs": [],
   "source": [
    "def solution(A):\n",
    "    # Counter for stable lengths.\n",
    "    stable_lengths = 0\n",
    "     # Not enough readings.\n",
    "     # or too many readings.\n",
    "    if len(A) < 3 or len(A) > 100:\n",
    "       return -1\n",
    "    # Checking the elems coditions \n",
    "    for elem in A:\n",
    "        if elem > 1000000000 or elem < -1000000000:\n",
    "            return -1\n",
    "\n",
    "    # Loop over the positions array.\n",
    "    for i in range(len(A) - 2):\n",
    "        # Track the stable lengths so far.\n",
    "        # Check the current difference and see if \n",
    "        # that changed in the readings.\n",
    "        current_diff = A[i + 1] - A[i]\n",
    "\n",
    "        # Checking for the next differences.\n",
    "        for j in range(i + 1, len(A) - 1):\n",
    "            if A[j + 1] - A[j] == current_diff:\n",
    "                stable_lengths += 1\n",
    "            else:\n",
    "                # Since the stable region\n",
    "                # where the diffs are consistent are over.\n",
    "                # can;t include further.\n",
    "                break\n",
    "\n",
    "    # print(stable_lengths)\n",
    "    # This if came from problem statement constraint,.\n",
    "    if stable_lengths > 1000000000:\n",
    "        return -1\n",
    "    return stable_lengths\n",
    "# A = [1,1,1,2,2,2,2]\n",
    "A = [2,2,2,2]\n",
    "solution(A)"
   ]
  },
  {
   "cell_type": "code",
   "execution_count": 9,
   "metadata": {},
   "outputs": [
    {
     "name": "stdout",
     "output_type": "stream",
     "text": [
      "12\n"
     ]
    }
   ],
   "source": [
    "# Smooth numbers solution, 2^p*3^q\n",
    "# https://www.hackerrank.com/challenges/smooth-numbers/problem\n",
    "def solution(N):\n",
    "    seq = [1] \n",
    "    i_2 = 0\n",
    "    i_3 = 0\n",
    "    \n",
    "    index = 0\n",
    "    while index <= N:\n",
    "        val_2 = 2 * seq[i_2]\n",
    "        val_3 = 3 * seq[i_3]\n",
    "        seq.append(min(val_2, val_3))\n",
    "        if val_2 <= val_3:\n",
    "            i_2 += 1\n",
    "        if val_3 <= val_2:\n",
    "            i_3 += 1\n",
    "        index += 1\n",
    "\n",
    "\n",
    "    return seq[N]\n",
    "print(solution(7))"
   ]
  },
  {
   "cell_type": "code",
   "execution_count": null,
   "metadata": {},
   "outputs": [],
   "source": [
    "# you can write to stdout for debugging purposes, e.g.\n",
    "# print(\"this is a debug message\")\n",
    "\n",
    "def solution(N): \n",
    "    # Adding Checks \n",
    "    if N < 0 or N > 200:\n",
    "        return \n",
    "    # from 2^p*2^q rule, we make in ascending order. \n",
    "    seq_A = [1] # Need to have 0 th element. \n",
    "    pow2_iter = 0 # Take care of 2's side increment\n",
    "    pow3_iter = 0 # Take care of 3's side increment\n",
    "\n",
    "    index = 0\n",
    "    # Must only populate numbers till N.\n",
    "    while index <= N:\n",
    "        # print(seq_A)\n",
    "        # print(index)\n",
    "        power2_pure = 2 * seq_A[pow2_iter]\n",
    "        power3_pure = 3 * seq_A[pow3_iter]\n",
    "        seq_A.append(min(power2_pure, power3_pure))\n",
    "        # We incremented the 2's side to get here.\n",
    "        if power3_pure >= power2_pure:\n",
    "            pow2_iter += 1\n",
    "        # Symmetrically, we must have incremented the 3's side\n",
    "        if power2_pure >= power3_pure:\n",
    "            pow3_iter += 1\n",
    "        index = index + 1\n",
    "\n",
    "    return seq_A[N]\n",
    "N = 20\n",
    "solution(N)\n"
   ]
  }
 ],
 "metadata": {
  "interpreter": {
   "hash": "775bace78200b09b6b84e9d6d629a74b478f54f66580d5c83e8d183a24771f5d"
  },
  "kernelspec": {
   "display_name": "Python 3.7.0 ('learnpython')",
   "language": "python",
   "name": "python3"
  },
  "language_info": {
   "codemirror_mode": {
    "name": "ipython",
    "version": 3
   },
   "file_extension": ".py",
   "mimetype": "text/x-python",
   "name": "python",
   "nbconvert_exporter": "python",
   "pygments_lexer": "ipython3",
   "version": "3.7.0"
  },
  "orig_nbformat": 4
 },
 "nbformat": 4,
 "nbformat_minor": 2
}
