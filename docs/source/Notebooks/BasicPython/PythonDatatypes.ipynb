{
 "cells": [
  {
   "cell_type": "markdown",
   "metadata": {},
   "source": [
    "# Python Datatypes"
   ]
  },
  {
   "cell_type": "markdown",
   "metadata": {},
   "source": [
    "## Integers \n",
    "- In Python 2, there was an internal limit to how large an integer value could be. But that limit was removed in Python 3.\n",
    "> This means there is no explicitly defined limit, but the amount of available address space forms a practical limit depending on the machine Python runs on."
   ]
  },
  {
   "cell_type": "code",
   "execution_count": 20,
   "metadata": {},
   "outputs": [
    {
     "name": "stdout",
     "output_type": "stream",
     "text": [
      "large float => 3.2e-12\n"
     ]
    }
   ],
   "source": [
    "# express the constant floating-point value 3.2 × 10-12 in Python:\n",
    "print('large float =>',3.2e-12)"
   ]
  },
  {
   "cell_type": "markdown",
   "metadata": {},
   "source": [
    "## Floats\n",
    "\n",
    "- Internal representation of float objects is not precise, so they can’t be relied on to equal exactly what you think they will"
   ]
  },
  {
   "cell_type": "code",
   "execution_count": 3,
   "metadata": {},
   "outputs": [
    {
     "name": "stdout",
     "output_type": "stream",
     "text": [
      "False\n"
     ]
    },
    {
     "data": {
      "text/plain": [
       "True"
      ]
     },
     "execution_count": 3,
     "metadata": {},
     "output_type": "execute_result"
    }
   ],
   "source": [
    "# Do not use '==' operator to compare two floats \n",
    "print(1.1 + 2.2 == 3.3)\n",
    "# Use Tolerance \n",
    "tolerance = 0.00001\n",
    "abs((1.1 + 2.2) - 3.3) < tolerance"
   ]
  },
  {
   "cell_type": "markdown",
   "metadata": {},
   "source": [
    "## Strings\n",
    "- immutable"
   ]
  },
  {
   "cell_type": "markdown",
   "metadata": {},
   "source": [
    "### Raw Strings \n",
    "- A raw string literal is preceded by r or R, which specifies that escape sequences in the associated string are not translated. The backslash character is left in the string:"
   ]
  },
  {
   "cell_type": "code",
   "execution_count": 21,
   "metadata": {},
   "outputs": [
    {
     "name": "stdout",
     "output_type": "stream",
     "text": [
      "foo\\\\bar\\n\n"
     ]
    }
   ],
   "source": [
    "print(r'foo\\\\bar\\n')\n"
   ]
  },
  {
   "cell_type": "markdown",
   "metadata": {},
   "source": [
    "## Boolean\n",
    "- All the following are considered false when evaluated in Boolean context:\n",
    "    - The Boolean value False\n",
    "    - Any value that is numerically zero (0, 0.0, 0.0+0.0j)\n",
    "    - An empty string\n",
    "    - An object of a built-in composite data type which is empty (see below)\n",
    "    - The special value denoted by the Python keyword None\n",
    "- Virtually any other object built into Python is regarded as true."
   ]
  },
  {
   "cell_type": "code",
   "execution_count": 8,
   "metadata": {},
   "outputs": [
    {
     "name": "stdout",
     "output_type": "stream",
     "text": [
      "False False False\n",
      "False False False\n",
      "False\n",
      "True\n",
      "4.4\n"
     ]
    }
   ],
   "source": [
    "# Numeric\n",
    "print(bool(0), bool(0.0), bool(0.0+0j))\n",
    "# String\n",
    "print(bool(''), bool(\"\"), bool(\"\"\"\"\"\"))\n",
    "# Composite, like list \n",
    "print(bool([]))\n",
    "# Nested: Here the list has an element, so it is True\n",
    "print(bool([[]]))"
   ]
  },
  {
   "cell_type": "code",
   "execution_count": 11,
   "metadata": {},
   "outputs": [
    {
     "name": "stdout",
     "output_type": "stream",
     "text": [
      "or: 4.4\n",
      "and: 0.0\n"
     ]
    }
   ],
   "source": [
    "# Comparison\n",
    "x = 0.0\n",
    "y = 4.4\n",
    "print('or:',x or y)\n",
    "print('and:',x and y)\n"
   ]
  },
  {
   "cell_type": "markdown",
   "metadata": {},
   "source": [
    "### Compund Logic & Short-Circuit Evaluation\n",
    "> Consider following compound logic: x1 or x2 or x3 or … xn \n",
    "\n",
    "__Short Circuit Evaluation__\n",
    "- The xi operands are evaluated in order from left to right. As soon as one is found to be true, the entire expression is known to be true. At that point, Python stops and no more terms are evaluated. The value of the entire expression is that of the xi that terminated evaluation."
   ]
  },
  {
   "cell_type": "code",
   "execution_count": 14,
   "metadata": {},
   "outputs": [
    {
     "data": {
      "text/plain": [
       "False"
      ]
     },
     "execution_count": 14,
     "metadata": {},
     "output_type": "execute_result"
    }
   ],
   "source": [
    "# Use Case example, the error is avoided in this example. \n",
    "a = 0\n",
    "b = 1\n",
    "# (b / a) > 0 #ZeroDivisionError: division by zero\n",
    "a != 0 and (b / a) > 0 # ShortCircuit evaluation, the second part is not evaluated if the first part is False\n"
   ]
  },
  {
   "cell_type": "markdown",
   "metadata": {},
   "source": [
    "### Truthy (and / or) Falsy\n",
    "If a is | \ta or b is\t| a and b is| \n",
    "--------|-------------|-------------|\n",
    "truthy\t|a|\tb|\n",
    "falsy|\tb\t|a|"
   ]
  },
  {
   "cell_type": "code",
   "execution_count": 18,
   "metadata": {},
   "outputs": [
    {
     "name": "stdout",
     "output_type": "stream",
     "text": [
      "or => 100\n",
      "and => 200\n"
     ]
    }
   ],
   "source": [
    "a = 100\n",
    "b = 200\n",
    "print('or =>', a or b)\n",
    "print('and =>', a and b)"
   ]
  },
  {
   "cell_type": "code",
   "execution_count": 34,
   "metadata": {},
   "outputs": [
    {
     "name": "stdout",
     "output_type": "stream",
     "text": [
      "a\n",
      "b\n",
      "('a', 1, 'a', 1)\n",
      "o\n",
      "lo\n",
      "ello\n"
     ]
    }
   ],
   "source": [
    "# True = False\n",
    "# while True:\n",
    "#     print(True)\n",
    "#     break\n",
    "\n",
    "# for i in range(float('inf')):\n",
    "#     print(i)\n",
    "\n",
    "d = {'a':1, 'b':2}\n",
    "for i in d:\n",
    "    print(i)\n",
    "\n",
    "t = ('a',1)\n",
    "print(t*2)\n",
    "\n",
    "s = 'Hello'\n",
    "print(s[-1:]) # [Start:-1:Stop:end,stride:1]\n",
    "print(s[-2:])\n",
    "print(s[-4:])"
   ]
  },
  {
   "cell_type": "code",
   "execution_count": null,
   "metadata": {},
   "outputs": [],
   "source": []
  }
 ],
 "metadata": {
  "interpreter": {
   "hash": "775bace78200b09b6b84e9d6d629a74b478f54f66580d5c83e8d183a24771f5d"
  },
  "kernelspec": {
   "display_name": "Python 3.7.0 ('learnpython')",
   "language": "python",
   "name": "python3"
  },
  "language_info": {
   "codemirror_mode": {
    "name": "ipython",
    "version": 3
   },
   "file_extension": ".py",
   "mimetype": "text/x-python",
   "name": "python",
   "nbconvert_exporter": "python",
   "pygments_lexer": "ipython3",
   "version": "3.7.0"
  },
  "orig_nbformat": 4
 },
 "nbformat": 4,
 "nbformat_minor": 2
}
