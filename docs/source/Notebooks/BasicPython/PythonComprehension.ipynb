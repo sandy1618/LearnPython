{
 "cells": [
  {
   "cell_type": "markdown",
   "metadata": {},
   "source": [
    "# Python Comprehension\n",
    "- This blog contains how to create dictionary, list, tuples etc through using comprehension and solve problems faster"
   ]
  },
  {
   "cell_type": "markdown",
   "metadata": {},
   "source": [
    "## Dictionary Comprehension"
   ]
  },
  {
   "cell_type": "code",
   "execution_count": 1,
   "metadata": {},
   "outputs": [
    {
     "name": "stdout",
     "output_type": "stream",
     "text": [
      "{'Gujarat': 'Gandhinagar', 'Maharashtra': 'Mumbai', 'Rajasthan': 'Jaipur'}\n"
     ]
    }
   ],
   "source": [
    "state = ['Gujarat', 'Maharashtra', 'Rajasthan'] \n",
    "capital = ['Gandhinagar', 'Mumbai', 'Jaipur']\n",
    "dict_1={key:value for (key,value) in zip(state,capital)}\n",
    "print(dict_1)"
   ]
  },
  {
   "cell_type": "markdown",
   "metadata": {},
   "source": [
    "### Sample Question \n",
    "Make a program, which generates a dictionary variable a = {\"January\":1, \"February\":2, \"May\":5} and prints keys of a sorted by value of the dictionary in descending order. In this time, use \"for\" function.And then use comprehension to solve it. \n",
    "\n",
    "May \\\n",
    "February \\\n",
    "January \\\n",
    "#### Method1 Using For\n"
   ]
  },
  {
   "cell_type": "code",
   "execution_count": 4,
   "metadata": {},
   "outputs": [
    {
     "name": "stdout",
     "output_type": "stream",
     "text": [
      "[5, 2, 1]\n",
      "May\n",
      "February\n",
      "January\n"
     ]
    }
   ],
   "source": [
    "a  = {\"January\":1, \"February\":2, \"May\":5}\n",
    "sorted_value=sorted(a.values(), reverse=True)\n",
    "print(sorted_value)\n",
    "for val in sorted_value:\n",
    "\tprint([x for x in a.items() if x[1] == val][0][0])"
   ]
  },
  {
   "cell_type": "markdown",
   "metadata": {},
   "source": [
    "#### Method2 Using Comprehension"
   ]
  },
  {
   "cell_type": "code",
   "execution_count": 8,
   "metadata": {},
   "outputs": [
    {
     "name": "stdout",
     "output_type": "stream",
     "text": [
      "May\n",
      "February\n",
      "January\n"
     ]
    },
    {
     "data": {
      "text/plain": [
       "[None, None, None]"
      ]
     },
     "execution_count": 8,
     "metadata": {},
     "output_type": "execute_result"
    }
   ],
   "source": [
    "sorted_value=sorted(a.items(),key=lambda x:x[1],reverse=True)\n",
    "[print(var[0]) for var in sorted_value]"
   ]
  }
 ],
 "metadata": {
  "interpreter": {
   "hash": "775bace78200b09b6b84e9d6d629a74b478f54f66580d5c83e8d183a24771f5d"
  },
  "kernelspec": {
   "display_name": "Python 3.7.0 ('learnpython')",
   "language": "python",
   "name": "python3"
  },
  "language_info": {
   "codemirror_mode": {
    "name": "ipython",
    "version": 3
   },
   "file_extension": ".py",
   "mimetype": "text/x-python",
   "name": "python",
   "nbconvert_exporter": "python",
   "pygments_lexer": "ipython3",
   "version": "3.7.0"
  },
  "orig_nbformat": 4
 },
 "nbformat": 4,
 "nbformat_minor": 2
}
