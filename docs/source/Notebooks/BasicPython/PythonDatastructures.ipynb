{
 "cells": [
  {
   "cell_type": "markdown",
   "metadata": {},
   "source": [
    "# Python Built-In Datastructures : List,Tuples, Dictionaries & Strings \n",
    "**Basic Structure**\n",
    "- Properties \n",
    "- Creating\n",
    "- Accessing\n",
    "- Modifiying (Adding, Updating, rearranging)\n",
    "- Deleting\n",
    "- Type Conversion\n",
    "- Operations with dictionary\n",
    "- Useful Cases examples"
   ]
  },
  {
   "cell_type": "markdown",
   "metadata": {},
   "source": [
    "## List\n",
    "- Properties \n",
    "  - Mutable \n",
    "- Creating\n",
    "- Accessing\n",
    "  - l.pop() -> return last element\n",
    "  - \n",
    "- Modifiying (Adding, Updating, rearranging)\n",
    "  - Append(Only appends one elemet at a time)\n",
    "  - Insert\n",
    "  - Extend(Only accepts iterable)\n",
    "- Deleting\n",
    "- Type Conversion\n",
    "- Operations with dictionary\n",
    "- Useful Cases examples"
   ]
  },
  {
   "cell_type": "markdown",
   "metadata": {},
   "source": [
    "### Modifying\n"
   ]
  },
  {
   "cell_type": "code",
   "execution_count": 4,
   "metadata": {},
   "outputs": [
    {
     "name": "stdout",
     "output_type": "stream",
     "text": [
      "['nayak', 'vale', 'bob', 'mia', 'ron', 'ned', 'sandy', 'yes', 'no']\n"
     ]
    }
   ],
   "source": [
    "'''\n",
    "You can add elements to the end of a list, \n",
    "or you can insert them wherever you like \n",
    "in a list\n",
    "'''\n",
    "users = ['vale','bob','mia','ron','ned']\n",
    "users2 = ['yes','no']\n",
    "#Append\n",
    "users.append('sandy')\n",
    "#Insert\n",
    "users.insert(0,'nayak')\n",
    "#Extend\n",
    "users.extend(users2)\n",
    "\n",
    "print(users)"
   ]
  },
  {
   "cell_type": "markdown",
   "metadata": {},
   "source": [
    "### Deleting"
   ]
  },
  {
   "cell_type": "code",
   "execution_count": 8,
   "metadata": {},
   "outputs": [
    {
     "data": {
      "text/plain": [
       "[]"
      ]
     },
     "execution_count": 8,
     "metadata": {},
     "output_type": "execute_result"
    }
   ],
   "source": [
    "#removing\n",
    "users = ['nayak','vale','bob','mia','ron','ned','sandy']\n",
    "\n",
    "#remove nayak\n",
    "#output : ['vale', 'bob', 'mia', 'ron', 'ned', 'sandy']\n",
    "users.remove('nayak')\n",
    "\n",
    "#remove 'sandy' and return it\n",
    "#output:['vale', 'bob', 'mia', 'ron', 'ned']\n",
    "users.pop()\n",
    "\n",
    "#clear users list\n",
    "users.clear()\n",
    "users"
   ]
  },
  {
   "cell_type": "markdown",
   "metadata": {},
   "source": [
    "### Useful Cases examples"
   ]
  },
  {
   "cell_type": "code",
   "execution_count": 9,
   "metadata": {},
   "outputs": [
    {
     "data": {
      "text/plain": [
       "2"
      ]
     },
     "execution_count": 9,
     "metadata": {},
     "output_type": "execute_result"
    }
   ],
   "source": [
    "#Getting Index\n",
    "users = ['nayak','vale','bob','sandy','mia','ron','ned','sandy']\n",
    "\n",
    "#return index of 'sandy'\n",
    "#output: 3\n",
    "users.index('sandy')\n",
    "\n",
    "#return count of 'sandy'\n",
    "#output:2\n",
    "users.count('sandy')"
   ]
  },
  {
   "cell_type": "code",
   "execution_count": 14,
   "metadata": {},
   "outputs": [
    {
     "name": "stdout",
     "output_type": "stream",
     "text": [
      "['e', 'd', 'c', 'b', 'a', 'B', 'A']\n",
      "['A', 'B', 'a', 'b', 'c', 'd', 'e']\n",
      "['e', 'd', 'c', 'b', 'a', 'B', 'A']\n"
     ]
    }
   ],
   "source": [
    "'''The sort() method changes the order of a list \n",
    "permanently. The sorted() function returns \n",
    "a copy of the list, leaving the original list \n",
    "unchanged. You can sort the items in a list in \n",
    "alphabetical order, or reverse alphabetical \n",
    "order. You can also reverse the original order of \n",
    "the list. Keep in mind that lowercase and uppercase\n",
    "letters may affect the sort order'''\n",
    "users = ['a','A','b','B','c','d','e']\n",
    "\n",
    "#Sorting in reverse alphabetical order & guess its output\n",
    "users.sort(reverse=True)\n",
    "print(users)\n",
    "\n",
    "#Do a temp. sorting but do not change list\n",
    "print(sorted(users)) #does not affect users, returns a copy\n",
    "print(users)\n",
    "users.reverse() # returns none.\n",
    "\n",
    "\n",
    "# You might have noticed that methods like insert, remove or sort that only modify the \n",
    "# list have no return value printed they return the default None. \n",
    "# This is a design principle for all mutable data structures in Python.\n",
    "# The list.sort() method returns None.\n",
    "# The list.reverse() method returns None.\n",
    "# The list.append() method returns None.\n"
   ]
  },
  {
   "cell_type": "markdown",
   "metadata": {},
   "source": [
    "## Dictionaries\n",
    "- Properties\n",
    "  1. keys: Immutable Objects like Strings, numbers\n",
    "  2. keys: tuples can be used as keys if it contains only immutables like strings/ numbers. But,if it contains,lets say list, cannot\n",
    "  3. **keys: lists cannot be used since it is mutable.** \n",
    "\n",
    "- Creating\n",
    "  1. {key:value}       -> Dictionary\n",
    "  2. dict()  -> New Dictonary \n",
    "  3. dict.fromkeys(s) -> New dictionary with the given sequence of elements as the keys of the dictionary\n",
    "  4. dict_comprehension -> {key:value for key,value in zip(keys,value)})\n",
    "\n",
    "- Accessing\n",
    "  1. d[key]     ->Value\n",
    "  2. d.get(key) -> Value [Useful as instead of Errors, I can return default values]\n",
    "  3. d.keys()   -> Iterable of keys\n",
    "  4. d.values() -> Iterable of values\n",
    "  5. d.items()  -> Iterable of items -> keys,values \n",
    "\n",
    "  6. d.setdefault() -> Returns the value of the specified key. If the key does not exist: insert the key, with the specified value\n",
    "\n",
    "- Modifiying (Adding, Updating, rearranging)\n",
    "  1. d[key] = value \n",
    "  2. d.update(d2) or d.update({key:value})  -> Updated d with d2 added to d dictionary\n",
    "\n",
    "- Deleting\n",
    "  1. d.pop(key) ->  Returns the value & Removes the element with the key (can take key as argument. )\n",
    "  2. d.popitem() ->  Returns tuple of last (key,value) & Removes the last inserted key-value pair\n",
    "  3. d.del[key]  -> Remove individual items \n",
    "  4. d.clear()   -> Return empty dict & Removes the entire dictionay\n",
    "\n",
    "- Type Conversion\n",
    "\n",
    "- Operations with dictionary\n",
    "\n",
    "- Useful Cases examples\n",
    "\n"
   ]
  },
  {
   "cell_type": "markdown",
   "metadata": {},
   "source": [
    "### Creating"
   ]
  },
  {
   "cell_type": "code",
   "execution_count": 15,
   "metadata": {},
   "outputs": [
    {
     "name": "stdout",
     "output_type": "stream",
     "text": [
      "{'sape': 4139, 'guido': 4127, 'jack': 4098}\n",
      "{'sape': 4139, 'guido': 4127, 'jack': 4098}\n",
      "{'sape': 4139, 'guido': 4127, 'jack': 4098}\n"
     ]
    }
   ],
   "source": [
    "#The dict() constructor builds dictionaries directly from sequences of key-value pairs\n",
    "\n",
    "dict1=dict([('sape', 4139), ('guido', 4127), ('jack', 4098)]) # list of Tuples\n",
    "print(dict1)\n",
    "dict2=dict([['sape', 4139], ['guido', 4127],['jack', 4098]]) # List of list\n",
    "print(dict2)\n",
    "dict3=dict((('sape', 4139), ('guido', 4127),('jack', 4098))) # Tuple of tuple \n",
    "print(dict3)"
   ]
  },
  {
   "cell_type": "code",
   "execution_count": null,
   "metadata": {},
   "outputs": [],
   "source": [
    "#dict comprehensions can be used to create dictionaries from arbitrary key and value expressions:\n",
    "print({x:x**2 for x in (2,4,6)})\n",
    "keys = [key for key in 'sandeep']\n",
    "value = [value for value in range(len('sandeep'))]\n",
    "print(keys)\n",
    "print(value)\n",
    "print({key:value for key,value in zip(keys,value)})"
   ]
  },
  {
   "cell_type": "code",
   "execution_count": 16,
   "metadata": {},
   "outputs": [
    {
     "name": "stdout",
     "output_type": "stream",
     "text": [
      "{'sape': 4139, 'guido': 4127, 'jack': 4098}\n"
     ]
    }
   ],
   "source": [
    "#When the keys are simple strings, it is sometimes easier to specify pairs using keyword arguments:\n",
    "print(dict(sape=4139, guido=4127, jack=4098))\n",
    "# print(dict(1=4139, 2=4127, 3=4098)) # This will produce error!"
   ]
  },
  {
   "cell_type": "code",
   "execution_count": 17,
   "metadata": {},
   "outputs": [
    {
     "name": "stdout",
     "output_type": "stream",
     "text": [
      "{'app': None, 'mobile': None, 'electricity': None}\n",
      "{'app': [2], 'mobile': [2], 'electricity': [2]}\n",
      "{'app': [2, 3], 'mobile': [2, 3], 'electricity': [2, 3]}\n",
      "{'app': [2], 'mobile': [2], 'electricity': [2]}\n",
      "{'app': [2], 'mobile': [2], 'electricity': [2]}\n"
     ]
    }
   ],
   "source": [
    "#dict.fromkeys(sequence[,value])\n",
    "tuple1 = ('app','mobile','electricity')\n",
    "d = dict.fromkeys(tuple1); print(d)\n",
    "\n",
    "value = [2]\n",
    "d = dict.fromkeys(tuple1,value); print(d) \n",
    "\n",
    "value.append(3);print(d)  # appending the list appends the new dictionary also !\n",
    "# each element is assigned a reference to the same object (points to the same object in the memory).\n",
    "\n",
    "#Using dictionary comprehension to solve the above problem.\n",
    "tuple1 = ('app','mobile','electricity')\n",
    "value = [2]\n",
    "d2 = {key:list(value) for key in tuple1}; print(d2) # Here list(value), making a list is important.\n",
    "value.append(3);print(d2)\n"
   ]
  },
  {
   "cell_type": "markdown",
   "metadata": {},
   "source": [
    "### Accessing"
   ]
  },
  {
   "cell_type": "code",
   "execution_count": 19,
   "metadata": {},
   "outputs": [
    {
     "name": "stdout",
     "output_type": "stream",
     "text": [
      "1\n",
      "dict_keys(['apple', 'pear', 'banana', 'pineapple', 'cherry'])\n",
      "['apple', 'pear', 'banana', 'pineapple', 'cherry']\n",
      "dict_values([5, 3, 4, 1, 20])\n",
      "[5, 3, 4, 1, 20]\n",
      "dict_items([('apple', 5), ('pear', 3), ('banana', 4), ('pineapple', 1), ('cherry', 20)])\n",
      "[('apple', 5), ('pear', 3), ('banana', 4), ('pineapple', 1), ('cherry', 20)]\n",
      "20\n",
      "5\n",
      "9\n",
      "{'apple': 5, 'pear': 3, 'banana': 4, 'pineapple': 1, 'cherry': 20, 'orange': 9}\n"
     ]
    }
   ],
   "source": [
    "d  = {\"apple\" : 5, \"pear\" : 3, \"banana\" : 4, \"pineapple\" : 1, \"cherry\" : 20}\n",
    "# Accessing using [] \n",
    "print(d[\"pineapple\"])\n",
    "# Using keys to get iterator of key. \n",
    "print(d.keys())\n",
    "print([key for key in d.keys()])\n",
    "# Using values to get iterator of values.\n",
    "print(d.values())\n",
    "print([value for value in d.values()])\n",
    "# Using items to get iterator of key-value pairs.\n",
    "print(d.items())\n",
    "print([item for item in d.items()])\n",
    "# Using get to get the value of a key.\n",
    "# If the key is not present, get returns default:None, no erros.\n",
    "print(d.get('cherry',None))\n",
    "# Using setdefault to get the value of a key.\n",
    "# If the key is not present, setdefault adds the key-value pair and returns the value.\n",
    "print(d.setdefault('apple'))\n",
    "print(d.setdefault('orange',9))\n",
    "print(d)\n",
    "\n"
   ]
  },
  {
   "cell_type": "markdown",
   "metadata": {},
   "source": [
    "### Modifiying (Adding, Updating, rearranging)"
   ]
  },
  {
   "cell_type": "code",
   "execution_count": 20,
   "metadata": {},
   "outputs": [
    {
     "name": "stdout",
     "output_type": "stream",
     "text": [
      "{'apple': 5, 'pear': 3, 'banana': 4, 'pineapple': 1, 'cherry': 20, 'orange': 19}\n",
      "{'apple': 5, 'pear': 3, 'banana': 4, 'pineapple': 1, 'cherry': 20, 'orange': 19, 'mango': 29}\n",
      "{'apple': 5, 'pear': 3, 'banana': 4, 'pineapple': 1, 'cherry': 20, 'orange': 19, 'mango': 29, 'brand': 'Ford', 'model': 'Mustang', 'year': 1964}\n"
     ]
    }
   ],
   "source": [
    "d  = {\"apple\" : 5, \"pear\" : 3, \"banana\" : 4, \"pineapple\" : 1, \"cherry\" : 20}\n",
    "# If organe not there, organe will get added. \n",
    "d[\"orange\"] = 19\n",
    "print(d)\n",
    "# Update takes in iterable. \n",
    "d.update({'mango':29})\n",
    "print(d)\n",
    "# d.update() also takes a dictionary. \n",
    "car = {  \"brand\": \"Ford\", \"model\": \"Mustang\",  \"year\": 1964}\n",
    "d.update(car)\n",
    "print(d)"
   ]
  },
  {
   "cell_type": "markdown",
   "metadata": {},
   "source": [
    "### Deleting\n",
    "1.  d.pop(key) ->  Returns the value & Removes the element with the key (can take key as argument. )\n",
    "2.  d.popitem() ->  Returns tuple of last (key,value) & Removes the last inserted key-value pair(Does not take arguments)\n",
    "3.  d.del[key]  -> Remove individual items \n",
    "4.  d.clear()   -> Return empty dict & Removes the entire dictionay"
   ]
  },
  {
   "cell_type": "code",
   "execution_count": 21,
   "metadata": {},
   "outputs": [
    {
     "name": "stdout",
     "output_type": "stream",
     "text": [
      "5\n",
      "{'pear': 3, 'banana': 4, 'pineapple': 1, 'cherry': 20}\n",
      "('cherry', 20)\n",
      "{'pear': 3, 'banana': 4, 'pineapple': 1}\n",
      "{'banana': 4, 'pineapple': 1}\n",
      "{}\n"
     ]
    }
   ],
   "source": [
    "d  = {\"apple\" : 5, \"pear\" : 3, \"banana\" : 4, \"pineapple\" : 1, \"cherry\" : 20}\n",
    "#pop(), popitem()\n",
    "print(d.pop('apple'));print(d)\n",
    "print(d.popitem());print(d)\n",
    "\n",
    "#del \n",
    "del d[\"pear\"];print(d)\n",
    "\n",
    "d.clear() ; print(d)\n",
    "\n",
    "del d ; # Delets the variable itself."
   ]
  },
  {
   "cell_type": "code",
   "execution_count": null,
   "metadata": {},
   "outputs": [],
   "source": []
  }
 ],
 "metadata": {
  "interpreter": {
   "hash": "775bace78200b09b6b84e9d6d629a74b478f54f66580d5c83e8d183a24771f5d"
  },
  "kernelspec": {
   "display_name": "Python 3.7.0 ('learnpython')",
   "language": "python",
   "name": "python3"
  },
  "language_info": {
   "codemirror_mode": {
    "name": "ipython",
    "version": 3
   },
   "file_extension": ".py",
   "mimetype": "text/x-python",
   "name": "python",
   "nbconvert_exporter": "python",
   "pygments_lexer": "ipython3",
   "version": "3.7.0"
  },
  "orig_nbformat": 4
 },
 "nbformat": 4,
 "nbformat_minor": 2
}
