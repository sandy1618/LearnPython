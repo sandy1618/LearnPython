{
 "cells": [
  {
   "cell_type": "markdown",
   "metadata": {},
   "source": [
    "# Python Built-In Datastructures : List,Tuples, Dictionaries & Strings \n",
    "**Basic Structure**\n",
    "- Properties \n",
    "- Creating\n",
    "- Accessing\n",
    "- Modifiying (Adding, Updating, rearranging)\n",
    "- Deleting\n",
    "- Type Conversion\n",
    "- Operations with dictionary\n",
    "- Useful Cases examples"
   ]
  },
  {
   "cell_type": "markdown",
   "metadata": {},
   "source": [
    "## List\n",
    "- Properties \n",
    "  - Mutable \n",
    "- Creating\n",
    "- Accessing\n",
    "- Modifiying (Adding, Updating, rearranging)\n",
    "  - Append(Only appends one elemet at a time)\n",
    "  - Insert\n",
    "  - Extend(Only accepts iterable)\n",
    "- Deleting\n",
    "- Type Conversion\n",
    "- Operations with dictionary\n",
    "- Useful Cases examples"
   ]
  }
 ],
 "metadata": {
  "language_info": {
   "name": "python"
  },
  "orig_nbformat": 4
 },
 "nbformat": 4,
 "nbformat_minor": 2
}
