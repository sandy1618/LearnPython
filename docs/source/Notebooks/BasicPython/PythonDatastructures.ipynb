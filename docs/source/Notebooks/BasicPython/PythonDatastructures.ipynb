{
 "cells": [
  {
   "cell_type": "markdown",
   "metadata": {},
   "source": [
    "# Python Built-In Datastructures : List,Tuples, Dictionaries & Strings \n",
    "**Basic Structure**\n",
    "- Properties \n",
    "- Creating\n",
    "- Accessing\n",
    "- Modifiying (Adding, Updating, rearranging)\n",
    "- Deleting\n",
    "- Type Conversion\n",
    "- Operations with dictionary\n",
    "- Useful Cases examples"
   ]
  },
  {
   "cell_type": "markdown",
   "metadata": {},
   "source": [
    "## List\n",
    "- Properties \n",
    "  - Mutable \n",
    "- Creating\n",
    "- Accessing\n",
    "  - l.pop() -> return last element\n",
    "  - \n",
    "- Modifiying (Adding, Updating, rearranging)\n",
    "  - Append(Only appends one elemet at a time)\n",
    "  - Insert\n",
    "  - Extend(Only accepts iterable)\n",
    "- Deleting\n",
    "- Type Conversion\n",
    "- Operations with dictionary\n",
    "- Useful Cases examples"
   ]
  },
  {
   "cell_type": "markdown",
   "metadata": {},
   "source": [
    "### Modifying\n"
   ]
  },
  {
   "cell_type": "code",
   "execution_count": 4,
   "metadata": {},
   "outputs": [
    {
     "name": "stdout",
     "output_type": "stream",
     "text": [
      "['nayak', 'vale', 'bob', 'mia', 'ron', 'ned', 'sandy', 'yes', 'no']\n"
     ]
    }
   ],
   "source": [
    "'''\n",
    "You can add elements to the end of a list, \n",
    "or you can insert them wherever you like \n",
    "in a list\n",
    "'''\n",
    "users = ['vale','bob','mia','ron','ned']\n",
    "users2 = ['yes','no']\n",
    "#Append\n",
    "users.append('sandy')\n",
    "#Insert\n",
    "users.insert(0,'nayak')\n",
    "#Extend\n",
    "users.extend(users2)\n",
    "\n",
    "print(users)"
   ]
  },
  {
   "cell_type": "markdown",
   "metadata": {},
   "source": [
    "### Deleting"
   ]
  },
  {
   "cell_type": "code",
   "execution_count": 8,
   "metadata": {},
   "outputs": [
    {
     "data": {
      "text/plain": [
       "[]"
      ]
     },
     "execution_count": 8,
     "metadata": {},
     "output_type": "execute_result"
    }
   ],
   "source": [
    "#removing\n",
    "users = ['nayak','vale','bob','mia','ron','ned','sandy']\n",
    "\n",
    "#remove nayak\n",
    "#output : ['vale', 'bob', 'mia', 'ron', 'ned', 'sandy']\n",
    "users.remove('nayak')\n",
    "\n",
    "#remove 'sandy' and return it\n",
    "#output:['vale', 'bob', 'mia', 'ron', 'ned']\n",
    "users.pop()\n",
    "\n",
    "#clear users list\n",
    "users.clear()\n",
    "users"
   ]
  },
  {
   "cell_type": "markdown",
   "metadata": {},
   "source": [
    "### Useful Cases examples"
   ]
  },
  {
   "cell_type": "code",
   "execution_count": 9,
   "metadata": {},
   "outputs": [
    {
     "data": {
      "text/plain": [
       "2"
      ]
     },
     "execution_count": 9,
     "metadata": {},
     "output_type": "execute_result"
    }
   ],
   "source": [
    "#Getting Index\n",
    "users = ['nayak','vale','bob','sandy','mia','ron','ned','sandy']\n",
    "\n",
    "#return index of 'sandy'\n",
    "#output: 3\n",
    "users.index('sandy')\n",
    "\n",
    "#return count of 'sandy'\n",
    "#output:2\n",
    "users.count('sandy')"
   ]
  },
  {
   "cell_type": "code",
   "execution_count": 14,
   "metadata": {},
   "outputs": [
    {
     "name": "stdout",
     "output_type": "stream",
     "text": [
      "['e', 'd', 'c', 'b', 'a', 'B', 'A']\n",
      "['A', 'B', 'a', 'b', 'c', 'd', 'e']\n",
      "['e', 'd', 'c', 'b', 'a', 'B', 'A']\n"
     ]
    }
   ],
   "source": [
    "'''The sort() method changes the order of a list \n",
    "permanently. The sorted() function returns \n",
    "a copy of the list, leaving the original list \n",
    "unchanged. You can sort the items in a list in \n",
    "alphabetical order, or reverse alphabetical \n",
    "order. You can also reverse the original order of \n",
    "the list. Keep in mind that lowercase and uppercase\n",
    "letters may affect the sort order'''\n",
    "users = ['a','A','b','B','c','d','e']\n",
    "\n",
    "#Sorting in reverse alphabetical order & guess its output\n",
    "users.sort(reverse=True)\n",
    "print(users)\n",
    "\n",
    "#Do a temp. sorting but do not change list\n",
    "print(sorted(users)) #does not affect users, returns a copy\n",
    "print(users)\n",
    "users.reverse() # returns none.\n",
    "\n",
    "\n",
    "# You might have noticed that methods like insert, remove or sort that only modify the \n",
    "# list have no return value printed they return the default None. \n",
    "# This is a design principle for all mutable data structures in Python.\n",
    "# The list.sort() method returns None.\n",
    "# The list.reverse() method returns None.\n",
    "# The list.append() method returns None.\n"
   ]
  },
  {
   "cell_type": "markdown",
   "metadata": {},
   "source": [
    "## Dictionaries\n",
    "- Properties\n",
    "  1. keys: Immutable Objects like Strings, numbers\n",
    "  2. keys: tuples can be used as keys if it contains only immutables like strings/ numbers. But,if it contains,lets say list, cannot\n",
    "  3. **keys: lists cannot be used since it is mutable.** \n",
    "\n",
    "- Creating\n",
    "  1. {key:value}       -> Dictionary\n",
    "  2. dict()  -> New Dictonary \n",
    "  3. dict.fromkeys(s) -> New dictionary with the given sequence of elements as the keys of the dictionary\n",
    "  4. dict_comprehension -> {key:value for key,value in zip(keys,value)})\n",
    "\n",
    "- Accessing\n",
    "  1. d[key]     ->Value\n",
    "  2. d.get(key) -> Value [Useful as instead of Errors, I can return default values]\n",
    "  3. d.keys()   -> Iterable of keys\n",
    "  4. d.values() -> Iterable of values\n",
    "  5. d.items()  -> Iterable of items -> keys,values \n",
    "\n",
    "  6. d.setdefault() -> Returns the value of the specified key. If the key does not exist: insert the key, with the specified value\n",
    "\n",
    "- Modifiying (Adding, Updating, rearranging)\n",
    "  1. d[key] = value \n",
    "  2. d.update(d2) or d.update({key:value})  -> Updated d with d2 added to d dictionary\n",
    "\n",
    "- Deleting\n",
    "  1. d.pop(key) ->  Returns the value & Removes the element with the key (can take key as argument. )\n",
    "  2. d.popitem() ->  Returns tuple of last (key,value) & Removes the last inserted key-value pair\n",
    "  3. d.del[key]  -> Remove individual items \n",
    "  4. d.clear()   -> Return empty dict & Removes the entire dictionay\n",
    "\n",
    "- Type Conversion\n",
    "\n",
    "- Operations with dictionary\n",
    "\n",
    "- Useful Cases examples\n",
    "\n"
   ]
  },
  {
   "cell_type": "markdown",
   "metadata": {},
   "source": [
    "### Creating"
   ]
  },
  {
   "cell_type": "code",
   "execution_count": 15,
   "metadata": {},
   "outputs": [
    {
     "name": "stdout",
     "output_type": "stream",
     "text": [
      "{'sape': 4139, 'guido': 4127, 'jack': 4098}\n",
      "{'sape': 4139, 'guido': 4127, 'jack': 4098}\n",
      "{'sape': 4139, 'guido': 4127, 'jack': 4098}\n"
     ]
    }
   ],
   "source": [
    "#The dict() constructor builds dictionaries directly from sequences of key-value pairs\n",
    "\n",
    "dict1=dict([('sape', 4139), ('guido', 4127), ('jack', 4098)]) # list of Tuples\n",
    "print(dict1)\n",
    "dict2=dict([['sape', 4139], ['guido', 4127],['jack', 4098]]) # List of list\n",
    "print(dict2)\n",
    "dict3=dict((('sape', 4139), ('guido', 4127),('jack', 4098))) # Tuple of tuple \n",
    "print(dict3)"
   ]
  },
  {
   "cell_type": "code",
   "execution_count": null,
   "metadata": {},
   "outputs": [],
   "source": [
    "#dict comprehensions can be used to create dictionaries from arbitrary key and value expressions:\n",
    "print({x:x**2 for x in (2,4,6)})\n",
    "keys = [key for key in 'sandeep']\n",
    "value = [value for value in range(len('sandeep'))]\n",
    "print(keys)\n",
    "print(value)\n",
    "print({key:value for key,value in zip(keys,value)})"
   ]
  },
  {
   "cell_type": "code",
   "execution_count": 16,
   "metadata": {},
   "outputs": [
    {
     "name": "stdout",
     "output_type": "stream",
     "text": [
      "{'sape': 4139, 'guido': 4127, 'jack': 4098}\n"
     ]
    }
   ],
   "source": [
    "#When the keys are simple strings, it is sometimes easier to specify pairs using keyword arguments:\n",
    "print(dict(sape=4139, guido=4127, jack=4098))\n",
    "# print(dict(1=4139, 2=4127, 3=4098)) # This will produce error!"
   ]
  },
  {
   "cell_type": "code",
   "execution_count": 17,
   "metadata": {},
   "outputs": [
    {
     "name": "stdout",
     "output_type": "stream",
     "text": [
      "{'app': None, 'mobile': None, 'electricity': None}\n",
      "{'app': [2], 'mobile': [2], 'electricity': [2]}\n",
      "{'app': [2, 3], 'mobile': [2, 3], 'electricity': [2, 3]}\n",
      "{'app': [2], 'mobile': [2], 'electricity': [2]}\n",
      "{'app': [2], 'mobile': [2], 'electricity': [2]}\n"
     ]
    }
   ],
   "source": [
    "#dict.fromkeys(sequence[,value])\n",
    "tuple1 = ('app','mobile','electricity')\n",
    "d = dict.fromkeys(tuple1); print(d)\n",
    "\n",
    "value = [2]\n",
    "d = dict.fromkeys(tuple1,value); print(d) \n",
    "\n",
    "value.append(3);print(d)  # appending the list appends the new dictionary also !\n",
    "# each element is assigned a reference to the same object (points to the same object in the memory).\n",
    "\n",
    "#Using dictionary comprehension to solve the above problem.\n",
    "tuple1 = ('app','mobile','electricity')\n",
    "value = [2]\n",
    "d2 = {key:list(value) for key in tuple1}; print(d2) # Here list(value), making a list is important.\n",
    "value.append(3);print(d2)\n"
   ]
  },
  {
   "cell_type": "markdown",
   "metadata": {},
   "source": [
    "### Accessing"
   ]
  },
  {
   "cell_type": "code",
   "execution_count": 19,
   "metadata": {},
   "outputs": [
    {
     "name": "stdout",
     "output_type": "stream",
     "text": [
      "1\n",
      "dict_keys(['apple', 'pear', 'banana', 'pineapple', 'cherry'])\n",
      "['apple', 'pear', 'banana', 'pineapple', 'cherry']\n",
      "dict_values([5, 3, 4, 1, 20])\n",
      "[5, 3, 4, 1, 20]\n",
      "dict_items([('apple', 5), ('pear', 3), ('banana', 4), ('pineapple', 1), ('cherry', 20)])\n",
      "[('apple', 5), ('pear', 3), ('banana', 4), ('pineapple', 1), ('cherry', 20)]\n",
      "20\n",
      "5\n",
      "9\n",
      "{'apple': 5, 'pear': 3, 'banana': 4, 'pineapple': 1, 'cherry': 20, 'orange': 9}\n"
     ]
    }
   ],
   "source": [
    "d  = {\"apple\" : 5, \"pear\" : 3, \"banana\" : 4, \"pineapple\" : 1, \"cherry\" : 20}\n",
    "# Accessing using [] \n",
    "print(d[\"pineapple\"])\n",
    "# Using keys to get iterator of key. \n",
    "print(d.keys())\n",
    "print([key for key in d.keys()])\n",
    "# Using values to get iterator of values.\n",
    "print(d.values())\n",
    "print([value for value in d.values()])\n",
    "# Using items to get iterator of key-value pairs.\n",
    "print(d.items())\n",
    "print([item for item in d.items()])\n",
    "# Using get to get the value of a key.\n",
    "# If the key is not present, get returns default:None, no erros.\n",
    "print(d.get('cherry',None))\n",
    "# Using setdefault to get the value of a key.\n",
    "# If the key is not present, setdefault adds the key-value pair and returns the value.\n",
    "print(d.setdefault('apple'))\n",
    "print(d.setdefault('orange',9))\n",
    "print(d)\n",
    "\n"
   ]
  },
  {
   "cell_type": "markdown",
   "metadata": {},
   "source": [
    "### Modifiying (Adding, Updating, rearranging)"
   ]
  },
  {
   "cell_type": "code",
   "execution_count": 20,
   "metadata": {},
   "outputs": [
    {
     "name": "stdout",
     "output_type": "stream",
     "text": [
      "{'apple': 5, 'pear': 3, 'banana': 4, 'pineapple': 1, 'cherry': 20, 'orange': 19}\n",
      "{'apple': 5, 'pear': 3, 'banana': 4, 'pineapple': 1, 'cherry': 20, 'orange': 19, 'mango': 29}\n",
      "{'apple': 5, 'pear': 3, 'banana': 4, 'pineapple': 1, 'cherry': 20, 'orange': 19, 'mango': 29, 'brand': 'Ford', 'model': 'Mustang', 'year': 1964}\n"
     ]
    }
   ],
   "source": [
    "d  = {\"apple\" : 5, \"pear\" : 3, \"banana\" : 4, \"pineapple\" : 1, \"cherry\" : 20}\n",
    "# If organe not there, organe will get added. \n",
    "d[\"orange\"] = 19\n",
    "print(d)\n",
    "# Update takes in iterable. \n",
    "d.update({'mango':29})\n",
    "print(d)\n",
    "# d.update() also takes a dictionary. \n",
    "car = {  \"brand\": \"Ford\", \"model\": \"Mustang\",  \"year\": 1964}\n",
    "d.update(car)\n",
    "print(d)"
   ]
  },
  {
   "cell_type": "markdown",
   "metadata": {},
   "source": [
    "### Deleting\n",
    "1.  d.pop(key) ->  Returns the value & Removes the element with the key (can take key as argument. )\n",
    "2.  d.popitem() ->  Returns tuple of last (key,value) & Removes the last inserted key-value pair(Does not take arguments)\n",
    "3.  d.del[key]  -> Remove individual items \n",
    "4.  d.clear()   -> Return empty dict & Removes the entire dictionay"
   ]
  },
  {
   "cell_type": "code",
   "execution_count": 21,
   "metadata": {},
   "outputs": [
    {
     "name": "stdout",
     "output_type": "stream",
     "text": [
      "5\n",
      "{'pear': 3, 'banana': 4, 'pineapple': 1, 'cherry': 20}\n",
      "('cherry', 20)\n",
      "{'pear': 3, 'banana': 4, 'pineapple': 1}\n",
      "{'banana': 4, 'pineapple': 1}\n",
      "{}\n"
     ]
    }
   ],
   "source": [
    "d  = {\"apple\" : 5, \"pear\" : 3, \"banana\" : 4, \"pineapple\" : 1, \"cherry\" : 20}\n",
    "#pop(), popitem()\n",
    "print(d.pop('apple'));print(d)\n",
    "print(d.popitem());print(d)\n",
    "\n",
    "#del \n",
    "del d[\"pear\"];print(d)\n",
    "\n",
    "d.clear() ; print(d)\n",
    "\n",
    "del d ; # Delets the variable itself."
   ]
  },
  {
   "cell_type": "markdown",
   "metadata": {},
   "source": [
    "## Strings\n",
    "[Geeks](https://www.geeksforgeeks.org/python-strings/)\\\n",
    "[Tutorials_point](https://www.tutorialspoint.com/python/python_strings.htm)"
   ]
  },
  {
   "cell_type": "markdown",
   "metadata": {},
   "source": [
    "### Properties\n",
    "1. Immutable\n",
    "2. All characters are string in python\n"
   ]
  },
  {
   "cell_type": "markdown",
   "metadata": {},
   "source": [
    "### Accessing \n",
    "- Just like lists"
   ]
  },
  {
   "cell_type": "code",
   "execution_count": 23,
   "metadata": {},
   "outputs": [
    {
     "name": "stdout",
     "output_type": "stream",
     "text": [
      "He\n",
      "ksForGee\n"
     ]
    }
   ],
   "source": [
    "var1 = 'Hello World!'\n",
    "print(var1[0:2])\n",
    "String1 = \"GeeksForGeeks\"\n",
    "# \"Slicing characters betwee 3rd and 2nd last character: \") \n",
    "print(String1[3:-2]) "
   ]
  },
  {
   "cell_type": "markdown",
   "metadata": {},
   "source": [
    "### Delete/ Updating\n",
    "- can update the entire string by variable assignment\n",
    "- can delete the entire string by usign del keyword\n"
   ]
  },
  {
   "cell_type": "code",
   "execution_count": 24,
   "metadata": {},
   "outputs": [],
   "source": [
    "string1= 'A'\n",
    "del string1\n",
    "# print(string1) #  NameError: name 'string1' is not defined"
   ]
  },
  {
   "cell_type": "markdown",
   "metadata": {},
   "source": [
    "### Useful Cases examples"
   ]
  },
  {
   "cell_type": "markdown",
   "metadata": {},
   "source": [
    "#### Raw Strings"
   ]
  },
  {
   "cell_type": "code",
   "execution_count": 25,
   "metadata": {},
   "outputs": [
    {
     "name": "stdout",
     "output_type": "stream",
     "text": [
      "C:\\Python\\Geeks\\\n",
      "C:\\\\Python\\\\Geeks\\\\\n"
     ]
    }
   ],
   "source": [
    "string2 = 'C:\\\\Python\\\\Geeks\\\\'\n",
    "#To ignore the escape sequences in a String, r or R is used, \n",
    "#this implies that the string is a raw string and escape sequences inside it are to be ignored.\n",
    "string3 = r'C:\\\\Python\\\\Geeks\\\\'\n",
    "print(string2)\n",
    "print(string3)"
   ]
  },
  {
   "cell_type": "markdown",
   "metadata": {},
   "source": [
    "#### Triple Quotes\n",
    "- Spanning strings over multiple lines can be done using python’s triple quotes. It can also be used for long comments in code. Special characters like TABs, verbatim or NEWLINEs can also be used within the triple quotes\n",
    "- Triple quotes, according to official Python documentation are docstrings, or multi-line docstrings and are not considered comments."
   ]
  },
  {
   "cell_type": "code",
   "execution_count": 27,
   "metadata": {},
   "outputs": [
    {
     "name": "stdout",
     "output_type": "stream",
     "text": [
      "hi , \n",
      "this is \n",
      "sandeep\n"
     ]
    }
   ],
   "source": [
    "# Can only be a single line, else error!\n",
    "string4 = \"sandeep nayak is a good boy\" \n",
    "# If you want to add multi-line strings, use 3 double quotes: \"\"\" \n",
    "string5 = \"\"\"hi , \n",
    "this is \n",
    "sandeep\"\"\"\n",
    "print(string5)"
   ]
  },
  {
   "cell_type": "markdown",
   "metadata": {},
   "source": [
    "#### Operators in Strings\n"
   ]
  },
  {
   "cell_type": "code",
   "execution_count": 28,
   "metadata": {},
   "outputs": [
    {
     "name": "stdout",
     "output_type": "stream",
     "text": [
      "HelloPython\n",
      "HelloHelloHelloHello\n",
      "H\n",
      "l\n",
      "True\n",
      "False\n"
     ]
    }
   ],
   "source": [
    "a = \"Hello\"\n",
    "b = \"Python\"\n",
    "# Concatenate\n",
    "print(a+b)\n",
    "# Repeat\n",
    "print(a*4)\n",
    "# Indexing\n",
    "print(a[0])\n",
    "# Slicing\n",
    "print(a[3:-1])\n",
    "# Elements in \n",
    "print(\"H\" in a)\n",
    "print(\"H\" not in a)"
   ]
  },
  {
   "cell_type": "markdown",
   "metadata": {},
   "source": [
    "#### String Methods\n",
    "##### s.startswith(str, beg=0,end=len(string))"
   ]
  },
  {
   "cell_type": "code",
   "execution_count": 29,
   "metadata": {},
   "outputs": [
    {
     "name": "stdout",
     "output_type": "stream",
     "text": [
      "True\n",
      "True\n",
      "True\n",
      "True\n",
      "False\n"
     ]
    }
   ],
   "source": [
    "\"\"\"\n",
    "s.startswith(str, beg=0,end=len(string))\n",
    "Returns: \n",
    "    True/ False\n",
    "\n",
    "str − This is the string to be checked.\n",
    "beg − This is the optional parameter to set start index of the matching boundary.\n",
    "end − This is the optional parameter to end start index of the matching boundary.\n",
    "\"\"\"\n",
    "s = \"this is live code relive\"\n",
    "print(s.startswith('this'))\n",
    "print(s.startswith('th'))\n",
    "print(s.startswith('this is live'))\n",
    "print(s.startswith( 'live', 8, 12 ))#str.startswith(str, beg=0,end=len(string))\n",
    "print(s.startswith( 'this', 8, 12 ))"
   ]
  },
  {
   "cell_type": "markdown",
   "metadata": {},
   "source": [
    "###### s.endswith(suffix[, start[, end]])"
   ]
  },
  {
   "cell_type": "code",
   "execution_count": 30,
   "metadata": {},
   "outputs": [
    {
     "name": "stdout",
     "output_type": "stream",
     "text": [
      "True\n",
      "True\n",
      "True\n",
      "False\n"
     ]
    }
   ],
   "source": [
    "# s.endswith(suffix[, start[, end]])\n",
    "\n",
    "str = \"this is string example....wow!!!\"\n",
    "suffix = \"wow!!!\"\n",
    "print(str.endswith(suffix))\n",
    "print(str.endswith(suffix,20)) # start, slice begin from here,it sees [ample....wow!!!]\n",
    "suffix = \"is\";\n",
    "print(str.endswith(suffix, 2, 4))\n",
    "print(str.endswith(suffix, 2, 6))"
   ]
  },
  {
   "cell_type": "markdown",
   "metadata": {},
   "source": [
    "##### s.count(str, beg= 0,end=len(string))"
   ]
  },
  {
   "cell_type": "code",
   "execution_count": 31,
   "metadata": {},
   "outputs": [
    {
     "name": "stdout",
     "output_type": "stream",
     "text": [
      "str.count(i) :  2\n",
      "str.count(wow) :  3\n"
     ]
    }
   ],
   "source": [
    "\"\"\"\n",
    "s.count(str, beg= 0,end=len(string))\n",
    "returns: count : int\n",
    "Counts how many times non-overlapping! str occurs in string or in a substring \n",
    "of string if starting index beg and ending index end are given.\n",
    "\"\"\"\n",
    "str = \"this is string example....wowwowwow!!!\"\n",
    "sub = \"i\"\n",
    "print(f\"str.count({sub}) : \", str.count(sub, 4, 15))\n",
    "# Example for non-overlapping count! \n",
    "sub = \"wow\"\n",
    "print(f\"str.count({sub}) : \", str.count(sub))"
   ]
  },
  {
   "cell_type": "markdown",
   "metadata": {},
   "source": [
    "##### s.strip()"
   ]
  },
  {
   "cell_type": "code",
   "execution_count": null,
   "metadata": {},
   "outputs": [],
   "source": [
    "\"\"\"\n",
    "s.strip()\n",
    "returns:returns a copy of the string in which all \n",
    "chars have been stripped from the beginning and\n",
    "the end of the string (default whitespace characters).\n",
    "\"\"\"\n",
    "str = \"0000000this is string example....wow!!!0000000\";\n",
    "print(str.strip( '0' ))\n",
    "# print(str.strip( ['0','i'] )) #TypeError: strip arg must be None or str\n",
    "# print(str.strip('0','i')) #TypeError: strip() takes at most 1 argument (2 given)"
   ]
  },
  {
   "cell_type": "markdown",
   "metadata": {},
   "source": [
    "##### s.partition(sep)"
   ]
  },
  {
   "cell_type": "code",
   "execution_count": 33,
   "metadata": {},
   "outputs": [
    {
     "name": "stdout",
     "output_type": "stream",
     "text": [
      "('Python ', 'is ', 'fun')\n",
      "('Python is fun', '', '')\n",
      "('Python ', 'is', \" fun, is n't it\")\n"
     ]
    }
   ],
   "source": [
    "\"\"\"\n",
    "s.partition(sep) -> (before, sep, after)\n",
    "returns:\n",
    "    3-tuple containing:(before, sep, after)\n",
    "\n",
    "-the part before the separator, separator parameter,\n",
    "and the part after the separator if the separator parameter is found in the string\n",
    "\n",
    "-string itself and two empty strings if the separator parameter is not found\n",
    "\"\"\"\n",
    "\n",
    "string = \"Python is fun\"\n",
    "# 'is' separator is found\n",
    "print(string.partition('is '))\n",
    "# 'not' separator is not found\n",
    "print(string.partition('not '))\n",
    "string = \"Python is fun, is n't it\"\n",
    "# splits at first occurence of 'is'\n",
    "print(string.partition('is'))"
   ]
  },
  {
   "cell_type": "markdown",
   "metadata": {},
   "source": [
    "##### s.split([separator [, maxsplit]])"
   ]
  },
  {
   "cell_type": "code",
   "execution_count": 35,
   "metadata": {},
   "outputs": [
    {
     "name": "stdout",
     "output_type": "stream",
     "text": [
      "['Milk', 'Chicken', 'Bread']\n",
      "['Milk, Chicken, Bread']\n",
      "['Milk', 'Chicken, Bread']\n",
      "['Milk', 'Chicken', 'Bread']\n",
      "['Milk, Chicken, Bread']\n"
     ]
    }
   ],
   "source": [
    "\"\"\"\n",
    "s.split([separator [, maxsplit]]) ->  list of strings split wtr [seq]\n",
    "\n",
    "-separator (optional)- The is a delimiter. The string splits at the specified separator.\n",
    "If the separator is not specified, any whitespace (space, newline etc.) string is a separator.\n",
    "-maxsplit (optional) - The maxsplit defines the maximum number of splits.\n",
    "The default value of maxsplit is -1, meaning, no limit on the number of splits.\n",
    "\n",
    "The split() breaks the string at the separator and returns a list of strings.\n",
    "\n",
    "\"\"\"\n",
    "grocery = 'Milk, Chicken, Bread'\n",
    "\n",
    "# splits at ','\n",
    "print(grocery.split(', '))\n",
    "# Splitting at ':'\n",
    "print(grocery.split(':'))\n",
    "# maxsplit: 1\n",
    "print(grocery.split(', ', 1))\n",
    "# maxsplit: 5\n",
    "print(grocery.split(', ', 5))\n",
    "# maxsplit: 0\n",
    "print(grocery.split(', ', 0))"
   ]
  },
  {
   "cell_type": "markdown",
   "metadata": {},
   "source": [
    "##### s.join(iterable)"
   ]
  },
  {
   "cell_type": "code",
   "execution_count": 36,
   "metadata": {},
   "outputs": [
    {
     "name": "stdout",
     "output_type": "stream",
     "text": [
      "1, 2, 3, 4\n",
      "1, 2, 3, 4\n",
      "1abc2abc3\n",
      "a123b123c\n",
      "Ruby->->Java->->Python\n",
      "mat->that\n"
     ]
    },
    {
     "ename": "TypeError",
     "evalue": "sequence item 0: expected str instance, int found",
     "output_type": "error",
     "traceback": [
      "\u001b[0;31m---------------------------------------------------------------------------\u001b[0m",
      "\u001b[0;31mTypeError\u001b[0m                                 Traceback (most recent call last)",
      "\u001b[0;32m/tmp/ipykernel_102465/463981995.py\u001b[0m in \u001b[0;36m<module>\u001b[0;34m\u001b[0m\n\u001b[1;32m     38\u001b[0m \u001b[0;34m\u001b[0m\u001b[0m\n\u001b[1;32m     39\u001b[0m \u001b[0;31m# this gives error:iterable contains any non-string values, it raises a TypeError exception.\u001b[0m\u001b[0;34m\u001b[0m\u001b[0;34m\u001b[0m\u001b[0m\n\u001b[0;32m---> 40\u001b[0;31m \u001b[0mprint\u001b[0m\u001b[0;34m(\u001b[0m\u001b[0ms\u001b[0m\u001b[0;34m.\u001b[0m\u001b[0mjoin\u001b[0m\u001b[0;34m(\u001b[0m\u001b[0mtest\u001b[0m\u001b[0;34m)\u001b[0m\u001b[0;34m)\u001b[0m\u001b[0;34m\u001b[0m\u001b[0m\n\u001b[0m",
      "\u001b[0;31mTypeError\u001b[0m: sequence item 0: expected str instance, int found"
     ]
    }
   ],
   "source": [
    "\"\"\"\n",
    "s.join(iterable) -> Takes s and concatinate it to elements of iterable \n",
    "Some of the example of iterables are:\n",
    "\n",
    "Native datatypes - List, Tuple, String, Dictionary and Set\n",
    "File objects and objects you define with an __iter__() or __getitem()__ method\n",
    "\n",
    "Errors:\n",
    "iterable contains any non-string values, it raises a TypeError exception.\n",
    "\n",
    "\"\"\"\n",
    "numList = ['1', '2', '3', '4']\n",
    "seperator = ', '\n",
    "print(seperator.join(numList))\n",
    "\n",
    "numTuple = ('1', '2', '3', '4')\n",
    "print(seperator.join(numTuple))\n",
    "\n",
    "s1 = 'abc'\n",
    "s2 = '123'\n",
    "\n",
    "\"\"\" Each character of s2 is concatenated to the front of s1\"\"\" \n",
    "print( s1.join(s2))\n",
    "\n",
    "\"\"\" Each character of s1 is concatenated to the front of s2\"\"\" \n",
    "print( s2.join(s1))\n",
    "\n",
    "test = {'Python', 'Java', 'Ruby'} # (Set)\n",
    "s = '->->'\n",
    "print(s.join(test))\n",
    "\n",
    "test =  {'mat': 1, 'that': 2}\n",
    "s = '->'\n",
    "print(s.join(test))\n",
    "\n",
    "test =  {1:'mat', 2:'that'} # Error, int found. \n",
    "s = ', '\n",
    "\n",
    "# this gives error:iterable contains any non-string values, it raises a TypeError exception.\n",
    "print(s.join(test))"
   ]
  },
  {
   "cell_type": "markdown",
   "metadata": {},
   "source": [
    "##### s.index(sub[, start[, end]] )"
   ]
  },
  {
   "cell_type": "code",
   "execution_count": 37,
   "metadata": {},
   "outputs": [
    {
     "name": "stdout",
     "output_type": "stream",
     "text": [
      "Substring 'is fun': 19\n"
     ]
    },
    {
     "ename": "ValueError",
     "evalue": "substring not found",
     "output_type": "error",
     "traceback": [
      "\u001b[0;31m---------------------------------------------------------------------------\u001b[0m",
      "\u001b[0;31mValueError\u001b[0m                                Traceback (most recent call last)",
      "\u001b[0;32m/tmp/ipykernel_102465/188644721.py\u001b[0m in \u001b[0;36m<module>\u001b[0;34m\u001b[0m\n\u001b[1;32m     16\u001b[0m \u001b[0mresult\u001b[0m \u001b[0;34m=\u001b[0m \u001b[0msentence\u001b[0m\u001b[0;34m.\u001b[0m\u001b[0mindex\u001b[0m\u001b[0;34m(\u001b[0m\u001b[0;34m'is fun'\u001b[0m\u001b[0;34m)\u001b[0m\u001b[0;34m\u001b[0m\u001b[0m\n\u001b[1;32m     17\u001b[0m \u001b[0mprint\u001b[0m\u001b[0;34m(\u001b[0m\u001b[0;34m\"Substring 'is fun':\"\u001b[0m\u001b[0;34m,\u001b[0m \u001b[0mresult\u001b[0m\u001b[0;34m)\u001b[0m\u001b[0;34m\u001b[0m\u001b[0m\n\u001b[0;32m---> 18\u001b[0;31m \u001b[0mresult\u001b[0m \u001b[0;34m=\u001b[0m \u001b[0msentence\u001b[0m\u001b[0;34m.\u001b[0m\u001b[0mindex\u001b[0m\u001b[0;34m(\u001b[0m\u001b[0;34m'Java'\u001b[0m\u001b[0;34m)\u001b[0m\u001b[0;34m\u001b[0m\u001b[0m\n\u001b[0m\u001b[1;32m     19\u001b[0m \u001b[0mprint\u001b[0m\u001b[0;34m(\u001b[0m\u001b[0;34m\"Substring 'Java':\"\u001b[0m\u001b[0;34m,\u001b[0m \u001b[0mresult\u001b[0m\u001b[0;34m)\u001b[0m\u001b[0;34m\u001b[0m\u001b[0m\n",
      "\u001b[0;31mValueError\u001b[0m: substring not found"
     ]
    }
   ],
   "source": [
    "\"\"\"\n",
    "s.index(sub[, start[, end]] )\n",
    "    sub - substring to be searched in the string str.\n",
    "    start and end(optional) - substring is searched within str[start:end]\n",
    "\n",
    "Returns:\n",
    "    -If substring exists inside the string, it returns the lowest \n",
    "     index in the string where substring is found.\n",
    "    -If substring doesn't exist inside the string, it raises a ValueError exception.\n",
    "The index() method is similar to find() method for strings.\n",
    "The only difference is that find() method returns -1 if \n",
    "the substring is not found, whereas index() throws an exception.\n",
    "\n",
    "\"\"\"\n",
    "sentence = 'Python programming is fun to be is fun'\n",
    "result = sentence.index('is fun')\n",
    "print(\"Substring 'is fun':\", result)\n",
    "result = sentence.index('Java')\n",
    "print(\"Substring 'Java':\", result)"
   ]
  },
  {
   "cell_type": "markdown",
   "metadata": {},
   "source": [
    "##### s.find(sub[, start[, end]] )"
   ]
  },
  {
   "cell_type": "code",
   "execution_count": 38,
   "metadata": {},
   "outputs": [
    {
     "name": "stdout",
     "output_type": "stream",
     "text": [
      "Substring 'let it': 11\n",
      "Substring 'small ': -1\n",
      "Contains substring 'be,'\n"
     ]
    }
   ],
   "source": [
    "\"\"\"\n",
    "s.find(sub[, start[, end]] )\n",
    "    sub - It's the substring to be searched in the str string.\n",
    "    start and end (optional) - substring is searched within str[start:end]\n",
    "Returns: \n",
    "    find() method returns an integer value.\n",
    "    -If substring exists inside the string, it returns the index of first occurence of the substring.\n",
    "    -If substring doesn't exist inside the string, it returns -1.\n",
    "\n",
    "        \n",
    "\"\"\"\n",
    "quote = 'Let it be, let it be, let it be'\n",
    "\n",
    "result = quote.find('let it')\n",
    "print(\"Substring 'let it':\", result)\n",
    "\n",
    "result = quote.find('small')\n",
    "print(\"Substring 'small ':\", result)\n",
    "\n",
    "# How to use find()\n",
    "if  (quote.find('be,') != -1): # ie. it contains 'be'\n",
    "  print(\"Contains substring 'be,'\")\n",
    "else:\n",
    "  print(\"Doesn't contain substring\")"
   ]
  },
  {
   "cell_type": "markdown",
   "metadata": {},
   "source": [
    "##### String Checker s.is\\<alpha...\\>\n",
    "###### s.isalnum()\n",
    "###### s.isalpha()\n",
    "###### s.isdecimal()\n",
    "###### s.isdigit()\n",
    "###### s.isidentifier()\n",
    "###### s.islower()\n",
    "###### s.isnumeric()\n",
    "###### s.isprintable()\n",
    "###### s.isspace()\n",
    "###### s.istitle()\n",
    "###### s.isupper()"
   ]
  },
  {
   "cell_type": "code",
   "execution_count": 51,
   "metadata": {},
   "outputs": [
    {
     "name": "stdout",
     "output_type": "stream",
     "text": [
      "All characters are not alphanumeric.\n",
      "M3onica Gell22er  => isalpha:False\n",
      "Mo3 nicaG el l22er => isdecimal:False\n",
      "str => isidentifier:True\n",
      "th!s is a1so g00d => islower:True\n",
      "THIS IS ALSO G00D! => isupper:True\n",
      "½ => isnumeric:True\n"
     ]
    }
   ],
   "source": [
    "\"\"\" s.is ... -> True/False\n",
    "\n",
    "Python String isalnum()\n",
    "Python String isalpha()\n",
    "Python String isdecimal()\n",
    "Python String isdigit()\n",
    "Python String isidentifier()\n",
    "Python String islower()\n",
    "Python String isnumeric()\n",
    "Python String isprintable()\n",
    "Python String isspace()\n",
    "Python String istitle()\n",
    "Python String isupper()\n",
    "\n",
    "\"\"\"\n",
    "# Checks for contains whitespace/other characters that are not alpha-numeric\n",
    "name = \"M3onica Gell22er \"\n",
    "if name.isalnum() == True:\n",
    "   print(\"All characters of string (name) are alphanumeric.\")\n",
    "else:\n",
    "    print(\"All characters are not alphanumeric.\")\n",
    "# contains alphabets and spaces \n",
    "print(f'{name} => isalpha:{name.isalpha()}')\n",
    "\n",
    "name = \"Mo3 nicaG el l22er\"\n",
    "print(f'{name} => isdecimal:{name.isdecimal()}')\n",
    "\n",
    "name = 'str'\n",
    "print(f'{name} => isidentifier:{name.isidentifier()}')\n",
    "\n",
    "name = 'th!s is a1so g00d'\n",
    "print(f'{name} => islower:{name.islower()}')\n",
    "\n",
    "name = \"THIS IS ALSO G00D!\"\n",
    "print(f'{name} => isupper:{name.isupper()}')\n",
    "\n",
    "\"\"\"\n",
    "s.isnumeric()\n",
    "    Return: True/False\n",
    "A numeric character has following properties:\n",
    "\n",
    "Numeric_Type=Decimal\n",
    "Numeric_Type=Digit\n",
    "Numeric_Type=Numeric\n",
    "In Python, decimal characters (like: 0, 1, 2..), \n",
    "digits (like: subscript, superscript), \n",
    "and characters having Unicode numeric value property \n",
    "(like: fraction, roman numerals, currency numerators) are all considered numeric characters.\n",
    "\n",
    "\"\"\"\n",
    "# s = '½'\n",
    "name = '\\u00BD'\n",
    "print(f'{name} => isnumeric:{name.isnumeric()}')"
   ]
  },
  {
   "cell_type": "markdown",
   "metadata": {},
   "source": [
    "##### String Convertor\n",
    "###### s.upper()\n",
    "###### s.lower()\n",
    "###### s.title() -> copy of the string in which first characters of all the words are capitalized\n",
    "###### s.swapcase() ->copy of the string in which all the case-based characters have had their case swapped.\n",
    "###### s.casefold() -> doing a case-insensitive string comparison, Consider Unicode Normalization \n",
    "###### s.capitalize() "
   ]
  },
  {
   "cell_type": "code",
   "execution_count": 53,
   "metadata": {},
   "outputs": [
    {
     "name": "stdout",
     "output_type": "stream",
     "text": [
      "TH!S SH0ULD B3 UPP3RCAS3!\n",
      "This Is String Example....Wow!!!\n",
      "This is string example....wow!!!\n",
      "this IS STRING EXAMPLE....WOW!!!\n",
      "The strings are equal.\n"
     ]
    }
   ],
   "source": [
    "\"\"\"\n",
    "s.upper(), s.lower(),\n",
    "\n",
    "s.title() -> copy of the string in which first characters of all the words are capitalized.\n",
    "\n",
    "s.swapcase() ->copy of the string in which all the case-based characters have had their case swapped.\n",
    "\n",
    "s.casefold() -> doing a case-insensitive string comparison, Consider Unicode Normalization \n",
    "\n",
    "s.capitalize() -> Capitalizes \n",
    "\n",
    "\n",
    "\"\"\"\n",
    "string = \"Th!s Sh0uLd B3 uPp3rCas3!\"\n",
    "print(string.upper())\n",
    "\n",
    "str = \"this is string example....wow!!!\";\n",
    "print(str.title())\n",
    "\n",
    "str = \"this is string example....wow!!!\";\n",
    "print(str.capitalize())\n",
    "\n",
    "str = \"THIS is string example....wow!!!\";\n",
    "print(str.swapcase())\n",
    "\n",
    "# CASEFOLDING better thean s.lower() for unicode normalization comparison.\n",
    "firstString = \"der Fluß\" # Unicoode B is equal to lower case ss. \n",
    "secondString = \"der Fluss\"\n",
    "\n",
    "# ß is equivalent to ss\n",
    "if firstString.casefold() == secondString.casefold():\n",
    "    print('The strings are equal.')\n",
    "else:\n",
    "    print('The strings are not equal.')"
   ]
  },
  {
   "cell_type": "markdown",
   "metadata": {},
   "source": [
    "##### String Padding\n",
    "###### s.center(width[, fillchar])\n",
    "###### s.rjust(width[, fillchar])\n",
    "###### s.ljust(width[, fillchar])\n",
    "###### s.zfill(width)"
   ]
  },
  {
   "cell_type": "code",
   "execution_count": 54,
   "metadata": {},
   "outputs": [
    {
     "name": "stdout",
     "output_type": "stream",
     "text": [
      "Centered String:  **Python is awesome***\n",
      "**cat\n",
      "cat**\n",
      "-0000290\n"
     ]
    }
   ],
   "source": [
    "\"\"\"\n",
    "s.center(width[, fillchar]) -> string which is padded with the specified character.\n",
    "\n",
    "s.rjust(width[, fillchar]) -> right-justified string of a given minimum width\n",
    "\n",
    "s.ljust(width[, fillchar]) -> left-justified string of a given minimum width.\n",
    "\n",
    "\"\"\"\n",
    "string = \"Python is awesome\"\n",
    "new_string = string.center(22, '*')\n",
    "print(\"Centered String: \", new_string)\n",
    "\n",
    "# example string\n",
    "string = 'cat'\n",
    "width = 5\n",
    "fillchar = '*'\n",
    "# print right justified string\n",
    "print(string.rjust(width, fillchar)) \n",
    "# he minimum width defined is 5. So, the resultant string is atleast of length 5.\n",
    "#Now, rjust() aligns the string 'cat' to the right leaving two spaces to the left of the word\n",
    "print(string.ljust(width, fillchar)) \n",
    "# s.zfill(width) -> string from zfill() with '0' digits filled to the left\n",
    "number = \"-290\"\n",
    "print(number.zfill(8))\n"
   ]
  }
 ],
 "metadata": {
  "interpreter": {
   "hash": "775bace78200b09b6b84e9d6d629a74b478f54f66580d5c83e8d183a24771f5d"
  },
  "kernelspec": {
   "display_name": "Python 3.7.0 ('learnpython')",
   "language": "python",
   "name": "python3"
  },
  "language_info": {
   "codemirror_mode": {
    "name": "ipython",
    "version": 3
   },
   "file_extension": ".py",
   "mimetype": "text/x-python",
   "name": "python",
   "nbconvert_exporter": "python",
   "pygments_lexer": "ipython3",
   "version": "3.7.0"
  },
  "orig_nbformat": 4
 },
 "nbformat": 4,
 "nbformat_minor": 2
}
