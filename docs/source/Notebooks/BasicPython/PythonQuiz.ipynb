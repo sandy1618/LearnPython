{
 "cells": [
  {
   "cell_type": "markdown",
   "metadata": {},
   "source": [
    "# Python Quiz"
   ]
  },
  {
   "cell_type": "markdown",
   "metadata": {},
   "source": [
    "### Lists"
   ]
  },
  {
   "cell_type": "code",
   "execution_count": 2,
   "metadata": {},
   "outputs": [
    {
     "name": "stdout",
     "output_type": "stream",
     "text": [
      "False\n",
      "True\n"
     ]
    }
   ],
   "source": [
    "import copy\n",
    "\n",
    "a = [1]\n",
    "b = [0, a]\n",
    "c = copy.copy(b)\n",
    "\n",
    "print(c is b)\n",
    "print(c[1] is b[1] is a)\n",
    "\n",
    "# c = copy.copy(b) is equivalent to c = b[:] and creates a shallow copy"
   ]
  },
  {
   "cell_type": "code",
   "execution_count": 4,
   "metadata": {},
   "outputs": [
    {
     "name": "stdout",
     "output_type": "stream",
     "text": [
      "False\n",
      "False\n",
      "[0, ['X']]\n",
      "[0, ['Y']]\n"
     ]
    }
   ],
   "source": [
    "import copy\n",
    "\n",
    "a = [1]\n",
    "b = [0, a]\n",
    "c = copy.deepcopy(b)\n",
    "\n",
    "print(c is b)\n",
    "print(c[1] is b[1] is a)\n",
    "\n",
    "c[1][0] = 'Y'\n",
    "a[0] = 'X'\n",
    "\n",
    "print(b)\n",
    "print(c)\n",
    "\n",
    "# c = copy.deepcopy(b) creates a deep copy of b, duplicating any internal references. c[1] no longer points to a"
   ]
  },
  {
   "cell_type": "code",
   "execution_count": 5,
   "metadata": {},
   "outputs": [
    {
     "name": "stdout",
     "output_type": "stream",
     "text": [
      "['a', 'b', 'c    d']\n"
     ]
    }
   ],
   "source": [
    "text = 'a b c    d'\n",
    "words = text.split(None, 2)\n",
    "print(words)"
   ]
  },
  {
   "cell_type": "code",
   "execution_count": 6,
   "metadata": {},
   "outputs": [
    {
     "name": "stdout",
     "output_type": "stream",
     "text": [
      "[0, 2, 3]\n"
     ]
    }
   ],
   "source": [
    "x = [0, 1, 2, 3]\n",
    "x[1:2] = []\n",
    "print(x)\n",
    "# Slice notation x[1:2] = [] can be used to remove elements from a list"
   ]
  },
  {
   "cell_type": "code",
   "execution_count": 11,
   "metadata": {},
   "outputs": [
    {
     "name": "stdout",
     "output_type": "stream",
     "text": [
      "[7, 1, 8, 3]\n"
     ]
    },
    {
     "data": {
      "text/plain": [
       "[7, 1, 8, 3]"
      ]
     },
     "execution_count": 11,
     "metadata": {},
     "output_type": "execute_result"
    }
   ],
   "source": [
    "# What this code outputs and why?\n",
    "\n",
    "x = [0, 1, 2, 3]\n",
    "x[::2] = [7, 8]\n",
    "print(x)\n",
    "[7, 1, 8, 3]\n",
    "\n",
    "# You can assign to extended slices, but the list on the right hand side of the statement must contain the same number of items as the slice it is replacing."
   ]
  },
  {
   "cell_type": "code",
   "execution_count": 13,
   "metadata": {},
   "outputs": [
    {
     "name": "stdout",
     "output_type": "stream",
     "text": [
      "[0, 1, 2, [3, 4]]\n",
      "[3, 4]\n"
     ]
    }
   ],
   "source": [
    "x = [0, 1, 2]\n",
    "x.append([3 ,4])\n",
    "print(x)\n",
    "print(x[3])\n",
    "\n",
    "# append method always adds a single element to a list"
   ]
  },
  {
   "cell_type": "code",
   "execution_count": 15,
   "metadata": {},
   "outputs": [
    {
     "name": "stdout",
     "output_type": "stream",
     "text": [
      "[0, 1, 2, 3, 4]\n"
     ]
    }
   ],
   "source": [
    "# Alternative to add list in the end list\n",
    "x = [0, 1, 2]\n",
    "x.extend([3, 4])\n",
    "print(x)\n",
    "\n",
    "# extend method only receives iterables, unlike append"
   ]
  },
  {
   "cell_type": "code",
   "execution_count": 19,
   "metadata": {},
   "outputs": [
    {
     "name": "stdout",
     "output_type": "stream",
     "text": [
      "1 [2, 3, 4] 5\n"
     ]
    }
   ],
   "source": [
    "a, *b, c = [1, 2, 3, 4, 5]\n",
    "print(a, b, c)\n",
    "# Tuple unpacking"
   ]
  },
  {
   "cell_type": "code",
   "execution_count": 28,
   "metadata": {},
   "outputs": [
    {
     "name": "stdout",
     "output_type": "stream",
     "text": [
      "[1, 2, 3]\n"
     ]
    }
   ],
   "source": [
    "# Filtering Elements from List\n",
    "x = [1, 0, 2, 0, 3, 0]\n",
    "x = [i for i in x if i != 0]\n",
    "print(x)\n",
    "\n",
    "# This list comprehension removes all instances of 0 from a list."
   ]
  },
  {
   "cell_type": "markdown",
   "metadata": {},
   "source": [
    "### Tuples"
   ]
  },
  {
   "cell_type": "code",
   "execution_count": 25,
   "metadata": {},
   "outputs": [
    {
     "name": "stdout",
     "output_type": "stream",
     "text": [
      "<class 'tuple'>\n"
     ]
    }
   ],
   "source": [
    "x = 1, 2\n",
    "print(type(x))\n",
    "\n",
    "# Tuples can be created without parentheses"
   ]
  },
  {
   "cell_type": "code",
   "execution_count": 18,
   "metadata": {},
   "outputs": [
    {
     "name": "stdout",
     "output_type": "stream",
     "text": [
      "<generator object <genexpr> at 0x7f2f06fb6c78>\n"
     ]
    }
   ],
   "source": [
    "x = (i**2 for i in range(4))\n",
    "print(x)\n",
    "\n",
    "# This is a generator expression. There is no tuple comprehension"
   ]
  },
  {
   "cell_type": "code",
   "execution_count": null,
   "metadata": {},
   "outputs": [],
   "source": [
    "x = tuple(i**2 for i in range(4))\n",
    "print(x)\n",
    "# For tuple comprehension, use the tuple() function."
   ]
  },
  {
   "cell_type": "code",
   "execution_count": 27,
   "metadata": {},
   "outputs": [
    {
     "name": "stdout",
     "output_type": "stream",
     "text": [
      "([2, 3],)\n"
     ]
    }
   ],
   "source": [
    "x = ([],)\n",
    "x[0].append(2)\n",
    "x[0].append(3)\n",
    "print(x)\n",
    "\n",
    "\n",
    "# You can append to a list inside a tuple, a list is mutable."
   ]
  },
  {
   "cell_type": "markdown",
   "metadata": {},
   "source": [
    "### Dictionaries"
   ]
  },
  {
   "cell_type": "code",
   "execution_count": 16,
   "metadata": {},
   "outputs": [
    {
     "name": "stdout",
     "output_type": "stream",
     "text": [
      "2\n"
     ]
    }
   ],
   "source": [
    "data = {'a':1, 'a':2, 'c':3}\n",
    "\n",
    "print(data['a'])\n",
    "\n",
    "# Dictionary keywords are unique. When you add a keyword more than once, the last value overwrites the previous."
   ]
  },
  {
   "cell_type": "code",
   "execution_count": 17,
   "metadata": {},
   "outputs": [
    {
     "name": "stdout",
     "output_type": "stream",
     "text": [
      "{'a': 1, 'b': 2, 1: 4}\n"
     ]
    }
   ],
   "source": [
    "data = {'a':1, 'b':2}\n",
    "data[1] = 4\n",
    "print(data)\n",
    "\n",
    "# Integers can serve as dictionary keywords. If no keyword exists, a new one is created."
   ]
  },
  {
   "cell_type": "code",
   "execution_count": null,
   "metadata": {},
   "outputs": [],
   "source": [
    "data = {x:'abc'[x] for x in range(3)}\n",
    "print(data)\n",
    "\n",
    "# You can use dictionary comprehension to create a dictionary"
   ]
  },
  {
   "cell_type": "markdown",
   "metadata": {},
   "source": [
    "### String"
   ]
  },
  {
   "cell_type": "code",
   "execution_count": null,
   "metadata": {},
   "outputs": [],
   "source": [
    "str = '-'\n",
    "seq = ['a', 'b', 'c']\n",
    "x = str.join(seq)\n",
    "print(x)\n",
    "\n",
    "# String join method uses the string as a separator for a list of strings and returns a string."
   ]
  },
  {
   "cell_type": "markdown",
   "metadata": {},
   "source": [
    "### Lambda Functions"
   ]
  },
  {
   "cell_type": "code",
   "execution_count": 24,
   "metadata": {},
   "outputs": [
    {
     "name": "stdout",
     "output_type": "stream",
     "text": [
      "1\n",
      "1\n"
     ]
    }
   ],
   "source": [
    "func = lambda: 1 if x else 2\n",
    "\n",
    "x = True\n",
    "print(func())\n",
    "y = False\n",
    "print(func())\n",
    "\n",
    "# lambda uses variables from external scope"
   ]
  },
  {
   "cell_type": "markdown",
   "metadata": {},
   "source": [
    "### Functions"
   ]
  },
  {
   "cell_type": "code",
   "execution_count": 26,
   "metadata": {},
   "outputs": [
    {
     "name": "stdout",
     "output_type": "stream",
     "text": [
      "5\n"
     ]
    }
   ],
   "source": [
    "def out():\n",
    "    global x\n",
    "    x = 5\n",
    "\n",
    "\n",
    "out()\n",
    "print(x)\n",
    "\n",
    "\n",
    "# You can use global to create global variables inside a function, unlike nonlocal."
   ]
  }
 ],
 "metadata": {
  "interpreter": {
   "hash": "775bace78200b09b6b84e9d6d629a74b478f54f66580d5c83e8d183a24771f5d"
  },
  "kernelspec": {
   "display_name": "Python 3.7.0 ('learnpython')",
   "language": "python",
   "name": "python3"
  },
  "language_info": {
   "codemirror_mode": {
    "name": "ipython",
    "version": 3
   },
   "file_extension": ".py",
   "mimetype": "text/x-python",
   "name": "python",
   "nbconvert_exporter": "python",
   "pygments_lexer": "ipython3",
   "version": "3.7.0"
  },
  "orig_nbformat": 4
 },
 "nbformat": 4,
 "nbformat_minor": 2
}
