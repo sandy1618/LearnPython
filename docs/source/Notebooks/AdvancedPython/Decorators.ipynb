{
 "cells": [
  {
   "cell_type": "markdown",
   "metadata": {},
   "source": [
    "# Python Decorators "
   ]
  },
  {
   "cell_type": "code",
   "execution_count": 6,
   "metadata": {},
   "outputs": [
    {
     "name": "stdout",
     "output_type": "stream",
     "text": [
      "p\n",
      "q\n",
      "Hello world!\n",
      "well\n"
     ]
    }
   ],
   "source": [
    "class x:\n",
    "    # we define a decorator\n",
    "    @staticmethod\n",
    "    def decorate_with_kwargs(original_function,**kwargs):\n",
    "        '''\n",
    "    Creating a kwargs decorating decorator to a function\n",
    "    '''\n",
    "        # type = kwargs.get('type', None)\n",
    "        kwargs_dict = kwargs\n",
    "        def new_function(*args,**kwargs):\n",
    "            \n",
    "            return original_function(*args,kwargs_dict=kwargs_dict)\n",
    "\n",
    "        return new_function\n",
    "\n",
    "    # here is a function to decorate\n",
    "    @staticmethod\n",
    "    def my_function(msg1,message,**kwargs):\n",
    "        kwargs_dict = kwargs.get('kwargs_dict', None)\n",
    "        print(kwargs_dict.get('type',None))\n",
    "        print(kwargs_dict.get('type2',None))\n",
    "        print(msg1)\n",
    "        print(message)\n",
    "\n",
    "# and here is how we decorate it\n",
    "my_function = x.decorate_with_kwargs(x.my_function, type='p',type2='q')\n",
    "\n",
    "my_function(\"Hello world!\",'well')"
   ]
  }
 ],
 "metadata": {
  "interpreter": {
   "hash": "775bace78200b09b6b84e9d6d629a74b478f54f66580d5c83e8d183a24771f5d"
  },
  "kernelspec": {
   "display_name": "Python 3.7.0 ('learnpython')",
   "language": "python",
   "name": "python3"
  },
  "language_info": {
   "codemirror_mode": {
    "name": "ipython",
    "version": 3
   },
   "file_extension": ".py",
   "mimetype": "text/x-python",
   "name": "python",
   "nbconvert_exporter": "python",
   "pygments_lexer": "ipython3",
   "version": "3.7.0"
  },
  "orig_nbformat": 4
 },
 "nbformat": 4,
 "nbformat_minor": 2
}
