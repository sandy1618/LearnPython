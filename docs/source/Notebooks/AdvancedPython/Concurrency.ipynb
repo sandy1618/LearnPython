{
 "cells": [
  {
   "cell_type": "markdown",
   "metadata": {},
   "source": [
    "# Python Concurrency\n",
    "[Ref1](https://www.geeksforgeeks.org/multithreading-python-set-1/)\n",
    "[Ref1](https://realpython.com/python-concurrency/)"
   ]
  },
  {
   "cell_type": "markdown",
   "metadata": {},
   "source": [
    "1. What is Concurrency ? \n",
    "    - concurrency is simultaneous occurrence. In Python, the things that are occurring simultaneously are called by different names (thread, task, process) \n",
    "    - only multiprocessing actually runs these trains of thought at literally the same time. Threading and asyncio both run on a single processor and therefore only run one at a time.\n",
    "2. Difference between threading & Asyncio?\n",
    "   - The way the threads or tasks take turns is the big difference between threading and asyncio.\n",
    "   - In threading, the operating system actually knows about each thread and can interrupt it at any time to start running a different thread. This is called pre-emptive multitasking since the operating system can pre-empt your thread to make the switch.\n",
    "   - Asyncio, on the other hand, uses cooperative multitasking. The tasks must cooperate by announcing when they are ready to be switched out. That means that the code in the task has to change slightly to make this happen.\n",
    "   - Ony 1 CPU processor used for both threading & asyncio\n",
    "3. What is Parallelism?\n",
    "   -  A process here can be thought of as almost a completely different program, though technically they’re usually defined as a collection of resources where the resources include memory, file handles and things like that. One way to think about it is that each process runs in its own Python interpreter.\n",
    "   - Multi-processors of CPU used. \n",
    "\n",
    "| Concurrency Type |\tSwitching Decision\t| Number of Processors\n",
    "------------------- | ---------------------| --------------------------\n",
    "Pre-emptive multitasking (threading) |\tThe operating system decides when to switch tasks external to Python. |\t1 \n",
    "Cooperative multitasking (asyncio) |\tThe tasks decide when to give up control. |\t1 |\n",
    "Multiprocessing (multiprocessing)\t| The processes all run at the same time on different processors.\t| Many |"
   ]
  },
  {
   "cell_type": "markdown",
   "metadata": {},
   "source": [
    "## Asyncio\n",
    "- Event Loop, managing states. Task has full control. \n",
    "- Async, Await type keywords. \n",
    "- any function that calls await needs to be marked with async. You’ll get a syntax error otherwise."
   ]
  },
  {
   "cell_type": "markdown",
   "metadata": {},
   "source": [
    "## Multi-Threading\n",
    "- A thread is an entity within a process that can be scheduled for execution. Also, it is the smallest unit of processing that can be performed in an OS (Operating System)\n",
    "- Multithreading is defined as the ability of a processor to execute multiple threads concurrently."
   ]
  },
  {
   "cell_type": "code",
   "execution_count": 1,
   "metadata": {},
   "outputs": [
    {
     "name": "stdout",
     "output_type": "stream",
     "text": [
      "Square: 100\n",
      "Cube: 1000\n",
      "Done!\n"
     ]
    }
   ],
   "source": [
    "# Python program to illustrate the concept\n",
    "# of threading\n",
    "# importing the threading module\n",
    "import threading\n",
    "\n",
    "def print_cube(num):\n",
    "\t\"\"\"\n",
    "\tfunction to print cube of given num\n",
    "\t\"\"\"\n",
    "\tprint(\"Cube: {}\".format(num * num * num))\n",
    "\n",
    "def print_square(num):\n",
    "\t\"\"\"\n",
    "\tfunction to print square of given num\n",
    "\t\"\"\"\n",
    "\tprint(\"Square: {}\".format(num * num))\n",
    "\n",
    "if __name__ == \"__main__\":\n",
    "\t# creating thread\n",
    "\tt1 = threading.Thread(target=print_square, args=(10,))\n",
    "\tt2 = threading.Thread(target=print_cube, args=(10,))\n",
    "\n",
    "\t# starting thread 1\n",
    "\tt1.start()\n",
    "\t# starting thread 2\n",
    "\tt2.start()\n",
    "\n",
    "\t# wait until thread 1 is completely executed\n",
    "\tt1.join()\n",
    "\t# wait until thread 2 is completely executed\n",
    "\tt2.join()\n",
    "\n",
    "\t# both threads completely executed\n",
    "\tprint(\"Done!\")\n"
   ]
  },
  {
   "cell_type": "markdown",
   "metadata": {},
   "source": [
    "### Synchronization\n",
    "- [Ref](https://www.geeksforgeeks.org/multithreading-in-python-set-2-synchronization/)\n",
    "- race condition, lock: aquire, release"
   ]
  },
  {
   "cell_type": "code",
   "execution_count": 3,
   "metadata": {},
   "outputs": [
    {
     "name": "stdout",
     "output_type": "stream",
     "text": [
      "Iteration 0: x = 163865\n",
      "Iteration 1: x = 189329\n",
      "Iteration 2: x = 200000\n",
      "Iteration 3: x = 200000\n",
      "Iteration 4: x = 200000\n",
      "Iteration 5: x = 172399\n",
      "Iteration 6: x = 200000\n",
      "Iteration 7: x = 200000\n",
      "Iteration 8: x = 164975\n",
      "Iteration 9: x = 200000\n"
     ]
    }
   ],
   "source": [
    "import threading\n",
    "\n",
    "# global variable x\n",
    "x = 0\n",
    "\n",
    "def increment():\n",
    "\t\"\"\"\n",
    "\tfunction to increment global variable x\n",
    "\t\"\"\"\n",
    "\tglobal x\n",
    "\tx += 1\n",
    "\n",
    "def thread_task():\n",
    "\t\"\"\"\n",
    "\ttask for thread\n",
    "\tcalls increment function 100000 times.\n",
    "\t\"\"\"\n",
    "\tfor _ in range(100000):\n",
    "\t\tincrement()\n",
    "\n",
    "def main_task():\n",
    "\tglobal x\n",
    "\t# setting global variable x as 0\n",
    "\tx = 0\n",
    "\n",
    "\t# creating threads\n",
    "\tt1 = threading.Thread(target=thread_task)\n",
    "\tt2 = threading.Thread(target=thread_task)\n",
    "\n",
    "\t# start threads\n",
    "\tt1.start()\n",
    "\tt2.start()\n",
    "\n",
    "\t# wait until threads finish their job\n",
    "\tt1.join()\n",
    "\tt2.join()\n",
    "\n",
    "if __name__ == \"__main__\":\n",
    "\tfor i in range(10):\n",
    "\t\tmain_task()\n",
    "\t\tprint(\"Iteration {0}: x = {1}\".format(i,x))\n"
   ]
  },
  {
   "cell_type": "markdown",
   "metadata": {},
   "source": [
    "#### Using Locks to perform synchronization for expected outputs fo 200000"
   ]
  },
  {
   "cell_type": "code",
   "execution_count": 5,
   "metadata": {},
   "outputs": [
    {
     "name": "stdout",
     "output_type": "stream",
     "text": [
      "Iteration 0: x = 200000\n",
      "Iteration 1: x = 200000\n",
      "Iteration 2: x = 200000\n",
      "Iteration 3: x = 200000\n",
      "Iteration 4: x = 200000\n",
      "Iteration 5: x = 200000\n",
      "Iteration 6: x = 200000\n",
      "Iteration 7: x = 200000\n",
      "Iteration 8: x = 200000\n",
      "Iteration 9: x = 200000\n"
     ]
    }
   ],
   "source": [
    "import threading\n",
    "\n",
    "# global variable x\n",
    "x = 0\n",
    "\n",
    "def increment():\n",
    "\t\"\"\"\n",
    "\tfunction to increment global variable x\n",
    "\t\"\"\"\n",
    "\tglobal x\n",
    "\tx += 1\n",
    "\n",
    "def thread_task(lock):\n",
    "\t\"\"\"\n",
    "\ttask for thread\n",
    "\tcalls increment function 100000 times.\n",
    "\t\"\"\"\n",
    "\tfor _ in range(100000):\n",
    "\t\tlock.acquire()\n",
    "\t\tincrement()\n",
    "\t\tlock.release()\n",
    "\n",
    "def main_task():\n",
    "\tglobal x\n",
    "\t# setting global variable x as 0\n",
    "\tx = 0\n",
    "\n",
    "\t# creating a lock\n",
    "\tlock = threading.Lock()\n",
    "\n",
    "\t# creating threads\n",
    "\tt1 = threading.Thread(target=thread_task, args=(lock,))\n",
    "\tt2 = threading.Thread(target=thread_task, args=(lock,))\n",
    "\n",
    "\t# start threads\n",
    "\tt1.start()\n",
    "\tt2.start()\n",
    "\n",
    "\t# wait until threads finish their job\n",
    "\tt1.join()\n",
    "\tt2.join()\n",
    "\n",
    "if __name__ == \"__main__\":\n",
    "\tfor i in range(10):\n",
    "\t\tmain_task()\n",
    "\t\tprint(\"Iteration {0}: x = {1}\".format(i,x))\n"
   ]
  },
  {
   "cell_type": "markdown",
   "metadata": {},
   "source": [
    "## Multi-Processing\n",
    "- At a high level, it does this by creating a new instance of the Python interpreter to run on each CPU and then farming out part of your program to run on it."
   ]
  },
  {
   "cell_type": "code",
   "execution_count": 3,
   "metadata": {},
   "outputs": [
    {
     "name": "stdout",
     "output_type": "stream",
     "text": [
      "None\n",
      "Duration 6.036993503570557 seconds\n"
     ]
    }
   ],
   "source": [
    "import multiprocessing\n",
    "import time\n",
    "\n",
    "\n",
    "def cpu_bound(number):\n",
    "    sum_=sum(i * i for i in range(number))\n",
    "    # print(sum_)\n",
    "    return sum_\n",
    "\n",
    "\n",
    "def find_sums(numbers):\n",
    "    with multiprocessing.Pool() as pool:\n",
    "        pool.map(cpu_bound, numbers)\n",
    "\n",
    "\n",
    "if __name__ == \"__main__\":\n",
    "    numbers = [5_000_000 + x for x in range(20)]\n",
    "\n",
    "    start_time = time.time()\n",
    "    print(find_sums(numbers))\n",
    "    duration = time.time() - start_time\n",
    "    print(f\"Duration {duration} seconds\")"
   ]
  },
  {
   "cell_type": "code",
   "execution_count": 9,
   "metadata": {},
   "outputs": [
    {
     "data": {
      "text/plain": [
       "[5000000,\n",
       " 5000001,\n",
       " 5000002,\n",
       " 5000003,\n",
       " 5000004,\n",
       " 5000005,\n",
       " 5000006,\n",
       " 5000007,\n",
       " 5000008,\n",
       " 5000009,\n",
       " 5000010,\n",
       " 5000011,\n",
       " 5000012,\n",
       " 5000013,\n",
       " 5000014,\n",
       " 5000015,\n",
       " 5000016,\n",
       " 5000017,\n",
       " 5000018,\n",
       " 5000019]"
      ]
     },
     "execution_count": 9,
     "metadata": {},
     "output_type": "execute_result"
    }
   ],
   "source": []
  }
 ],
 "metadata": {
  "interpreter": {
   "hash": "775bace78200b09b6b84e9d6d629a74b478f54f66580d5c83e8d183a24771f5d"
  },
  "kernelspec": {
   "display_name": "Python 3.7.0 ('learnpython')",
   "language": "python",
   "name": "python3"
  },
  "language_info": {
   "codemirror_mode": {
    "name": "ipython",
    "version": 3
   },
   "file_extension": ".py",
   "mimetype": "text/x-python",
   "name": "python",
   "nbconvert_exporter": "python",
   "pygments_lexer": "ipython3",
   "version": "3.7.0"
  },
  "orig_nbformat": 4
 },
 "nbformat": 4,
 "nbformat_minor": 2
}
