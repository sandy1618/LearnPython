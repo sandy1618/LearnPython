{
 "cells": [
  {
   "cell_type": "markdown",
   "metadata": {},
   "source": [
    "# Python Concurrency\n",
    "[Ref1](https://www.geeksforgeeks.org/multithreading-python-set-1/)"
   ]
  },
  {
   "cell_type": "markdown",
   "metadata": {},
   "source": [
    "## Multi-Threading\n",
    "- A thread is an entity within a process that can be scheduled for execution. Also, it is the smallest unit of processing that can be performed in an OS (Operating System)\n",
    "- Multithreading is defined as the ability of a processor to execute multiple threads concurrently."
   ]
  },
  {
   "cell_type": "code",
   "execution_count": 1,
   "metadata": {},
   "outputs": [
    {
     "name": "stdout",
     "output_type": "stream",
     "text": [
      "Square: 100\n",
      "Cube: 1000\n",
      "Done!\n"
     ]
    }
   ],
   "source": [
    "# Python program to illustrate the concept\n",
    "# of threading\n",
    "# importing the threading module\n",
    "import threading\n",
    "\n",
    "def print_cube(num):\n",
    "\t\"\"\"\n",
    "\tfunction to print cube of given num\n",
    "\t\"\"\"\n",
    "\tprint(\"Cube: {}\".format(num * num * num))\n",
    "\n",
    "def print_square(num):\n",
    "\t\"\"\"\n",
    "\tfunction to print square of given num\n",
    "\t\"\"\"\n",
    "\tprint(\"Square: {}\".format(num * num))\n",
    "\n",
    "if __name__ == \"__main__\":\n",
    "\t# creating thread\n",
    "\tt1 = threading.Thread(target=print_square, args=(10,))\n",
    "\tt2 = threading.Thread(target=print_cube, args=(10,))\n",
    "\n",
    "\t# starting thread 1\n",
    "\tt1.start()\n",
    "\t# starting thread 2\n",
    "\tt2.start()\n",
    "\n",
    "\t# wait until thread 1 is completely executed\n",
    "\tt1.join()\n",
    "\t# wait until thread 2 is completely executed\n",
    "\tt2.join()\n",
    "\n",
    "\t# both threads completely executed\n",
    "\tprint(\"Done!\")\n"
   ]
  },
  {
   "cell_type": "markdown",
   "metadata": {},
   "source": [
    "### Synchronization\n",
    "- [Ref](https://www.geeksforgeeks.org/multithreading-in-python-set-2-synchronization/)\n",
    "- race condition, lock: aquire, release"
   ]
  },
  {
   "cell_type": "code",
   "execution_count": 3,
   "metadata": {},
   "outputs": [
    {
     "name": "stdout",
     "output_type": "stream",
     "text": [
      "Iteration 0: x = 163865\n",
      "Iteration 1: x = 189329\n",
      "Iteration 2: x = 200000\n",
      "Iteration 3: x = 200000\n",
      "Iteration 4: x = 200000\n",
      "Iteration 5: x = 172399\n",
      "Iteration 6: x = 200000\n",
      "Iteration 7: x = 200000\n",
      "Iteration 8: x = 164975\n",
      "Iteration 9: x = 200000\n"
     ]
    }
   ],
   "source": [
    "import threading\n",
    "\n",
    "# global variable x\n",
    "x = 0\n",
    "\n",
    "def increment():\n",
    "\t\"\"\"\n",
    "\tfunction to increment global variable x\n",
    "\t\"\"\"\n",
    "\tglobal x\n",
    "\tx += 1\n",
    "\n",
    "def thread_task():\n",
    "\t\"\"\"\n",
    "\ttask for thread\n",
    "\tcalls increment function 100000 times.\n",
    "\t\"\"\"\n",
    "\tfor _ in range(100000):\n",
    "\t\tincrement()\n",
    "\n",
    "def main_task():\n",
    "\tglobal x\n",
    "\t# setting global variable x as 0\n",
    "\tx = 0\n",
    "\n",
    "\t# creating threads\n",
    "\tt1 = threading.Thread(target=thread_task)\n",
    "\tt2 = threading.Thread(target=thread_task)\n",
    "\n",
    "\t# start threads\n",
    "\tt1.start()\n",
    "\tt2.start()\n",
    "\n",
    "\t# wait until threads finish their job\n",
    "\tt1.join()\n",
    "\tt2.join()\n",
    "\n",
    "if __name__ == \"__main__\":\n",
    "\tfor i in range(10):\n",
    "\t\tmain_task()\n",
    "\t\tprint(\"Iteration {0}: x = {1}\".format(i,x))\n"
   ]
  },
  {
   "cell_type": "markdown",
   "metadata": {},
   "source": [
    "#### Using Locks to perform synchronization for expected outputs fo 200000"
   ]
  },
  {
   "cell_type": "code",
   "execution_count": 5,
   "metadata": {},
   "outputs": [
    {
     "name": "stdout",
     "output_type": "stream",
     "text": [
      "Iteration 0: x = 200000\n",
      "Iteration 1: x = 200000\n",
      "Iteration 2: x = 200000\n",
      "Iteration 3: x = 200000\n",
      "Iteration 4: x = 200000\n",
      "Iteration 5: x = 200000\n",
      "Iteration 6: x = 200000\n",
      "Iteration 7: x = 200000\n",
      "Iteration 8: x = 200000\n",
      "Iteration 9: x = 200000\n"
     ]
    }
   ],
   "source": [
    "import threading\n",
    "\n",
    "# global variable x\n",
    "x = 0\n",
    "\n",
    "def increment():\n",
    "\t\"\"\"\n",
    "\tfunction to increment global variable x\n",
    "\t\"\"\"\n",
    "\tglobal x\n",
    "\tx += 1\n",
    "\n",
    "def thread_task(lock):\n",
    "\t\"\"\"\n",
    "\ttask for thread\n",
    "\tcalls increment function 100000 times.\n",
    "\t\"\"\"\n",
    "\tfor _ in range(100000):\n",
    "\t\tlock.acquire()\n",
    "\t\tincrement()\n",
    "\t\tlock.release()\n",
    "\n",
    "def main_task():\n",
    "\tglobal x\n",
    "\t# setting global variable x as 0\n",
    "\tx = 0\n",
    "\n",
    "\t# creating a lock\n",
    "\tlock = threading.Lock()\n",
    "\n",
    "\t# creating threads\n",
    "\tt1 = threading.Thread(target=thread_task, args=(lock,))\n",
    "\tt2 = threading.Thread(target=thread_task, args=(lock,))\n",
    "\n",
    "\t# start threads\n",
    "\tt1.start()\n",
    "\tt2.start()\n",
    "\n",
    "\t# wait until threads finish their job\n",
    "\tt1.join()\n",
    "\tt2.join()\n",
    "\n",
    "if __name__ == \"__main__\":\n",
    "\tfor i in range(10):\n",
    "\t\tmain_task()\n",
    "\t\tprint(\"Iteration {0}: x = {1}\".format(i,x))\n"
   ]
  }
 ],
 "metadata": {
  "interpreter": {
   "hash": "775bace78200b09b6b84e9d6d629a74b478f54f66580d5c83e8d183a24771f5d"
  },
  "kernelspec": {
   "display_name": "Python 3.7.0 ('learnpython')",
   "language": "python",
   "name": "python3"
  },
  "language_info": {
   "codemirror_mode": {
    "name": "ipython",
    "version": 3
   },
   "file_extension": ".py",
   "mimetype": "text/x-python",
   "name": "python",
   "nbconvert_exporter": "python",
   "pygments_lexer": "ipython3",
   "version": "3.7.0"
  },
  "orig_nbformat": 4
 },
 "nbformat": 4,
 "nbformat_minor": 2
}
