{
 "cells": [
  {
   "cell_type": "markdown",
   "metadata": {},
   "source": [
    "# Iterators Generators Coroutines\n",
    "[ref1](https://www.integralist.co.uk/posts/python-generators/#why-use-iterators)"
   ]
  },
  {
   "cell_type": "markdown",
   "metadata": {},
   "source": [
    "## Iterators\n",
    "- An object that follows python iterator protocol. \n",
    "    - \\__next__()\n",
    "    - \\__iter__()\n",
    "\n",
    "- Use Case Scenerio\n",
    "    > Let us take a scenario in which we have a list of 100 elements. We continually ask the user to input a number and whenever they enter an even number, we print the next element of the list. Now, this cannot be done using a for loop as we cannot predict when the user will enter an even number.  Having no order or sequence in the inputs stops us from using the for loop to iterate the list in our program.  Iterators can be a handy tool to access the elements of iterables in such situations. "
   ]
  },
  {
   "cell_type": "code",
   "execution_count": null,
   "metadata": {},
   "outputs": [],
   "source": [
    "num_lst = range(0,101)\n",
    "num_lst_iter = iter(num_lst)\n",
    "index=0\n",
    "# ask user maximum 100 times. Just for demonstrating.\n",
    "while index<=100:\n",
    "    try:\n",
    "        num = int(input())\n",
    "        if num%2==0:\n",
    "            print(num_lst_iter.__next__())\n",
    "        if num == -1:\n",
    "            print('Bye')\n",
    "            break\n",
    "        else:\n",
    "            pass\n",
    "    except StopIteration as e:\n",
    "        print(\"Please enter a number\")\n",
    "        break"
   ]
  },
  {
   "cell_type": "markdown",
   "metadata": {},
   "source": [
    "### Custom Iterators"
   ]
  },
  {
   "cell_type": "code",
   "execution_count": 9,
   "metadata": {},
   "outputs": [
    {
     "name": "stdout",
     "output_type": "stream",
     "text": [
      "a\n",
      "b\n",
      "c\n"
     ]
    }
   ],
   "source": [
    "class Foo:\n",
    "    def __init__(self, collection):\n",
    "        self.collection = collection\n",
    "        self.index = 0\n",
    "\n",
    "    def __iter__(self):\n",
    "        \"\"\"\n",
    "        we return self so the 'iterator object' \n",
    "        is the Foo class instance itself,\n",
    "        \n",
    "        but we could have returned a new instance \n",
    "        of a completely different class, so long as\n",
    "        that other class had __next__ defined on it.\n",
    "        \"\"\"\n",
    "        return self\n",
    "\n",
    "    def __next__(self):\n",
    "        \"\"\"\n",
    "        this method is handling state and informing\n",
    "        the container of the iterator where we are\n",
    "        currently pointing to within our data collection.\n",
    "        \"\"\"\n",
    "        if self.index > len(self.collection)-1:\n",
    "            raise StopIteration\n",
    "\n",
    "        value = self.collection[self.index]\n",
    "        self.index += 1\n",
    "\n",
    "        return value\n",
    "\n",
    "# we are now able to loop over our custom Foo class!\n",
    "for element in Foo((\"a\", \"b\", \"c\")):\n",
    "    print(element)"
   ]
  },
  {
   "cell_type": "markdown",
   "metadata": {},
   "source": [
    "## Generators"
   ]
  },
  {
   "cell_type": "code",
   "execution_count": null,
   "metadata": {},
   "outputs": [],
   "source": [
    "def generator(limit):\n",
    "    for i in range(limit):\n",
    "        yield \"foo\"\n",
    "\n",
    "g = generator(3)\n",
    "# print(next(g))\n",
    "# print(next(g))\n",
    "# print(next(g))\n",
    "# print(next(g))\n",
    "\n",
    "for v in generator(3):\n",
    "    print(v)"
   ]
  },
  {
   "cell_type": "markdown",
   "metadata": {},
   "source": [
    "### Generator Use Case \n",
    "- Implement a custom iteration pattern that’s different than the usual built-in functions (e.g., range(), reversed(), etc.)."
   ]
  },
  {
   "cell_type": "code",
   "execution_count": 7,
   "metadata": {},
   "outputs": [
    {
     "name": "stdout",
     "output_type": "stream",
     "text": [
      "0.2\n",
      "1.1\n"
     ]
    }
   ],
   "source": [
    "def floatRange(start,stop,increment):\n",
    "    while start < stop:\n",
    "        yield start\n",
    "        start += increment\n",
    "for i in floatRange(0.2,2,0.9):\n",
    "    print(i) "
   ]
  },
  {
   "cell_type": "markdown",
   "metadata": {},
   "source": [
    "**Discussion**\n",
    "> The mere presence of the yield statement in a function turns it into a generator. Unlike a normal function, a generator only runs in response to iteration.\n",
    "> The key feature is that a generator function only runs in response to “next” operations carried out in iteration. Once a generator function returns, iteration stops. However, the for statement that’s usually used to iterate takes care of these details, so you don’t normally need to worry about them."
   ]
  },
  {
   "cell_type": "code",
   "execution_count": 6,
   "metadata": {},
   "outputs": [
    {
     "name": "stdout",
     "output_type": "stream",
     "text": [
      "0\n",
      "1\n",
      "1\n",
      "2\n",
      "3\n",
      "5\n",
      "8\n",
      "13\n",
      "21\n",
      "34\n"
     ]
    }
   ],
   "source": [
    "def fib(n):\n",
    "    a,b = 0,1\n",
    "    for i in range(n):\n",
    "        yield a\n",
    "        a,b = b,a+b\n",
    "for i in fib(10):\n",
    "    print(i)"
   ]
  },
  {
   "cell_type": "code",
   "execution_count": null,
   "metadata": {},
   "outputs": [],
   "source": [
    "# The key feature is that a generator function only runs in response to “next” operations carried out in iteration. Once a generator function returns, iteration stops. However, the for statement that’s usually used to iterate takes care of these details, so you don’t normally need to worry about them."
   ]
  },
  {
   "cell_type": "markdown",
   "metadata": {},
   "source": [
    "## Coroutines\n",
    "- Because coroutines can pause and resume execution context, they’re well suited to conconcurrent processing, as they enable the program to determine when to ‘context switch’ from one point of the code to another.\n",
    "- Generators use the yield keyword to return a value at some point in time within a function, but with coroutines the yield directive can also be used on the right-hand side of an = operator to signify it will accept a value at that point in time."
   ]
  },
  {
   "cell_type": "code",
   "execution_count": 12,
   "metadata": {},
   "outputs": [
    {
     "name": "stdout",
     "output_type": "stream",
     "text": [
      "bar\n"
     ]
    }
   ],
   "source": [
    "def foo():\n",
    "    \"\"\"\n",
    "    notice we use yield in both the \n",
    "    traditional generator sense and\n",
    "    also in the coroutine sense.\n",
    "    \"\"\"\n",
    "    msg = yield  # coroutine feature\n",
    "    yield msg    # generator feature\n",
    "\n",
    "coro = foo()\n",
    "\n",
    "# because a coroutine is a generator\n",
    "# we need to advance the returned generator\n",
    "# to the first yield within the generator function\n",
    "# If this is commented, it will raise the following error\n",
    "# TypeError: can't send non-None value to a just-started generator\n",
    "next(coro)\n",
    "\n",
    "# the .send() syntax is specific to a coroutine\n",
    "# this sends \"bar\" to the first yield \n",
    "# so the msg variable will be assigned that value\n",
    "result = coro.send(\"bar\")\n",
    "\n",
    "# because our coroutine also yields the msg variable\n",
    "# it means we can print that value\n",
    "print(result)  # bar"
   ]
  },
  {
   "cell_type": "markdown",
   "metadata": {},
   "source": [
    "Below is an example of a coroutine using yield to return a value to the caller prior to the value received via a caller using the .send() method:"
   ]
  },
  {
   "cell_type": "code",
   "execution_count": 15,
   "metadata": {},
   "outputs": [
    {
     "name": "stdout",
     "output_type": "stream",
     "text": [
      "beep\n",
      "bar\n"
     ]
    }
   ],
   "source": [
    "def foo():\n",
    "    msg = yield \"beep\"\n",
    "    yield msg\n",
    "\n",
    "coro = foo()\n",
    "\n",
    "print(next(coro))  # beep\n",
    "\n",
    "result = coro.send(\"bar\")\n",
    "\n",
    "print(result)  # bar"
   ]
  }
 ],
 "metadata": {
  "interpreter": {
   "hash": "775bace78200b09b6b84e9d6d629a74b478f54f66580d5c83e8d183a24771f5d"
  },
  "kernelspec": {
   "display_name": "Python 3.7.0 ('learnpython')",
   "language": "python",
   "name": "python3"
  },
  "language_info": {
   "codemirror_mode": {
    "name": "ipython",
    "version": 3
   },
   "file_extension": ".py",
   "mimetype": "text/x-python",
   "name": "python",
   "nbconvert_exporter": "python",
   "pygments_lexer": "ipython3",
   "version": "3.7.0"
  },
  "orig_nbformat": 4
 },
 "nbformat": 4,
 "nbformat_minor": 2
}
